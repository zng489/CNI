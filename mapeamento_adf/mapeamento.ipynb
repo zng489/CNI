{
 "cells": [
  {
   "cell_type": "code",
   "execution_count": 13,
   "metadata": {},
   "outputs": [
    {
     "name": "stdout",
     "output_type": "stream",
     "text": [
      "----- databricks trs notebook -----\n",
      "/trs/me/raw_trs_caged\n"
     ]
    }
   ],
   "source": [
    "import json\n",
    "\n",
    "# Path to the JSON file\n",
    "file_path = r'C:\\Users\\PC\\Desktop\\[BACKLOG MANUTENCAO] - Excluir esteira duplicada ADF NOVO CAGED\\pipelines\\raw_trs_caged.json'\n",
    "\n",
    "\n",
    "\n",
    "# Reading the JSON file\n",
    "with open(file_path, 'r') as file:\n",
    "    data = json.load(file)\n",
    "\n",
    "# Now 'data' contains the JSON data as a Python dictionary\n",
    "print('----- databricks trs notebook -----')\n",
    "print(data['properties']['parameters']['databricks']['defaultValue']['trs']['notebook'])"
   ]
  },
  {
   "cell_type": "code",
   "execution_count": 25,
   "metadata": {},
   "outputs": [
    {
     "name": "stdout",
     "output_type": "stream",
     "text": [
      "----- databricks org_raw_caged_ajuste -----\n",
      "{'notebook': '/oni/me/org_raw_me_novo_caged_mov'}\n"
     ]
    }
   ],
   "source": [
    "import json\n",
    "\n",
    "# Path to the JSON file\n",
    "file_path = r'C:\\Users\\PC\\Desktop\\[BACKLOG MANUTENCAO] - Excluir esteira duplicada ADF NOVO CAGED\\pipelines\\org_raw_novo_caged_mov_novo.json'\n",
    "\n",
    "# Reading the JSON file\n",
    "with open(file_path, 'r') as file:\n",
    "    data = json.load(file)\n",
    "\n",
    "# Now 'data' contains the JSON data as a Python dictionary\n",
    "print('----- databricks org_raw_caged_ajuste -----')\n",
    "print(data['properties']['parameters']['databricks']['defaultValue'])"
   ]
  },
  {
   "cell_type": "code",
   "execution_count": null,
   "metadata": {},
   "outputs": [],
   "source": []
  },
  {
   "cell_type": "code",
   "execution_count": 33,
   "metadata": {},
   "outputs": [
    {
     "name": "stdout",
     "output_type": "stream",
     "text": [
      "'name' found in the text.\n"
     ]
    }
   ],
   "source": [
    "import json\n",
    "\n",
    "# Path to the JSON file\n",
    "file_path = r'C:\\Users\\PC\\Desktop\\[BACKLOG MANUTENCAO] - Excluir esteira duplicada ADF NOVO CAGED\\pipelines\\org_raw_novo_caged_mov_novo.json'\n",
    "\n",
    "# Reading the JSON file\n",
    "with open(file_path, 'r') as file:\n",
    "    data = json.load(file)\n",
    "\n",
    "# Now 'data' contains the JSON data as a Python dictionary\n",
    "# Convert the JSON object to a text string\n",
    "json_string = json.dumps(data, indent=2)\n",
    "\n",
    "word = 'name'\n",
    "if word in json_string:\n",
    "    print(f\"'{word}' found in the text.\")\n",
    "else:\n",
    "    print(f\"'{word}' not found in the text.\")"
   ]
  },
  {
   "cell_type": "code",
   "execution_count": null,
   "metadata": {},
   "outputs": [],
   "source": []
  },
  {
   "cell_type": "code",
   "execution_count": 24,
   "metadata": {},
   "outputs": [],
   "source": [
    "import json\n",
    "import re\n",
    "# Path to the JSON file\n",
    "file_path = r'C:\\Users\\PC\\Desktop\\mapeamento_adf\\pipeline\\pipeline\\biz_biz_sesi_indicador_12_analitico.json'\n",
    "\n",
    "# Reading the JSON file\n",
    "with open(file_path, 'r') as file:\n",
    "    data = json.load(file)\n",
    "\n",
    "# Now 'data' contains the JSON data as a Python dictionary\n",
    "# Convert the JSON object to a text string\n",
    "json_string = json.dumps(data, indent=2)\n",
    "\n",
    "word = 'rais'\n",
    "if word in json_string:\n",
    "    if re.search(rf'\\b{word}\\b', json_string, re.IGNORECASE):\n",
    "        print(f\"'{word}' found in the text.\")\n",
    "else:\n",
    "    print(f\"'{word}' not found in the text.\")"
   ]
  },
  {
   "cell_type": "code",
   "execution_count": 27,
   "metadata": {},
   "outputs": [
    {
     "name": "stdout",
     "output_type": "stream",
     "text": [
      "org_raw_mte_rais_publica_estabelecimento.json\n",
      "org_raw_mte_rais_publica_vinculo.json\n",
      "org_raw_unimercado_rais.json\n",
      "raw_trs_mte_rais_publica_estabelecimento.json\n",
      "raw_trs_mte_rais_publica_vinculos.json\n",
      "raw_trs_unimercado_rais.json\n",
      "trs_biz_fta_rais_estabelecimentos.json\n",
      "trs_biz_fta_rais_trabalhadores.json\n",
      "trs_biz_rais_estab_pub.json\n",
      "trs_biz_rais_vinculo_publica.json\n"
     ]
    }
   ],
   "source": [
    "import os\n",
    "import json\n",
    "import re\n",
    "# Path to the folder\n",
    "\n",
    "folder_path = r'C:\\Users\\PC\\Desktop\\mapeamento_adf\\pipeline\\pipeline'\n",
    "\n",
    "# List all files in the folder\n",
    "files = os.listdir(folder_path)\n",
    "# ['biz_biz_analitico_ep.json', 'biz_biz_base_unimercado_ep.json', 'biz_biz_base_unimercado_ssi.json', 'biz_biz_base_unimercado_sti.json', ...\n",
    "\n",
    "for file_name in files:\n",
    "    # biz_biz_analitico_ep.json\n",
    "    # biz_biz_base_unimercado_ep.json\n",
    "    # biz_biz_base_unimercado_ssi.json\n",
    "    # biz_biz_base_unimercado_sti.json\n",
    "    # biz_biz_calcula_coluna.json\n",
    "\n",
    "\n",
    "    file_path = os.path.join(folder_path, file_name)\n",
    "    # 'C:\\Users\\PC\\Desktop\\mapeamento_adf\\pipeline\\pipeline' + ['biz_biz_analitico_ep.json', 'biz_biz_base_unimercado_ep.json', 'biz_biz_base_unimercado_ssi.json', 'biz_biz_base_unimercado_sti.json', ...\n",
    "    with open(file_path, 'r') as file:\n",
    "        data = json.load(file)\n",
    "\n",
    "        # Now 'data' contains the JSON data as a Python dictionary\n",
    "        # Convert the JSON object to a text string\n",
    "        json_string = json.dumps(data, indent=2)\n",
    "        word = 'rais'\n",
    "\n",
    "        if word in json_string:\n",
    "            if re.search(rf'\\b{word}\\b', json_string, re.IGNORECASE) and not file_name.startswith('wkf'):\n",
    "                # if word in json_string and not file_name.startswith('wkf'): \n",
    "                #>> it doesn't work, cause the expression 'if word in json_string' ain't looking for the 'word in the specific sequence'\n",
    "                print(file_name)\n",
    "            \n",
    "        else:\n",
    "            pass"
   ]
  },
  {
   "cell_type": "code",
   "execution_count": 16,
   "metadata": {},
   "outputs": [
    {
     "name": "stdout",
     "output_type": "stream",
     "text": [
      "biz_biz_cnpjs_rfb_rais_publica.json\n",
      "biz_biz_sesi_indicador_12_analitico.json\n",
      "biz_biz_sesi_indicador_12_sintetico.json\n",
      "biz_biz_sesi_indicador_13_analitico.json\n",
      "biz_biz_sesi_indicador_13_sintetico.json\n",
      "biz_biz_sesi_indicador_14_analitico.json\n",
      "biz_biz_sesi_indicador_14_sintetico.json\n",
      "lnd_org_raw_mte_rais_publica_estabelecimento.json\n",
      "lnd_org_raw_rais_estabelecimento.json\n",
      "lnd_org_raw_rais_vinculo.json\n",
      "mssqlserver_check_partition_keep_records.json\n",
      "oracle_check_partition_keep_records.json\n",
      "org_raw_grau_instrucao_rais.json\n",
      "org_raw_me_rais_estabelecimento.json\n",
      "org_raw_mte_rais_publica_estabelecimento.json\n",
      "org_raw_mte_rais_publica_vinculo.json\n",
      "org_raw_raca_rais.json\n",
      "org_raw_rais_estabelecimento.json\n",
      "org_raw_tipo_vinculo_rais.json\n",
      "org_raw_unimercado_rais.json\n",
      "raw_trs_grau_instrucao_rais.json\n",
      "raw_trs_me_rais_estabelecimento.json\n",
      "raw_trs_mte_rais_publica_estabelecimento.json\n",
      "raw_trs_mte_rais_publica_vinculos.json\n",
      "raw_trs_raca_rais.json\n",
      "raw_trs_rais_estabelecimento.json\n",
      "raw_trs_tipo_vinculo_rais.json\n",
      "raw_trs_unimercado_rais.json\n",
      "trs_biz_base_regime_tributario.json\n",
      "trs_biz_base_unificada_cnpjs.json\n",
      "trs_biz_cnpjs_rfb_rais_dw.json\n",
      "trs_biz_fta_rais_estab.json\n",
      "trs_biz_fta_rais_estabelecimentos.json\n",
      "trs_biz_fta_rais_trabalhadores.json\n",
      "trs_biz_mulheres_caged.json\n",
      "trs_biz_mulheres_rais_trabalhadores.json\n",
      "trs_biz_rais_estab_pub.json\n",
      "trs_biz_rais_vinculo_publica.json\n"
     ]
    }
   ],
   "source": [
    "import os\n",
    "import json\n",
    "# Path to the folder\n",
    "\n",
    "folder_path = r'C:\\Users\\PC\\Desktop\\mapeamento_adf\\pipeline\\pipeline'\n",
    "\n",
    "# List all files in the folder\n",
    "files = os.listdir(folder_path)\n",
    "# ['biz_biz_analitico_ep.json', 'biz_biz_base_unimercado_ep.json', 'biz_biz_base_unimercado_ssi.json', 'biz_biz_base_unimercado_sti.json', ...\n",
    "\n",
    "for file_name in files:\n",
    "    # biz_biz_analitico_ep.json\n",
    "    # biz_biz_base_unimercado_ep.json\n",
    "    # biz_biz_base_unimercado_ssi.json\n",
    "    # biz_biz_base_unimercado_sti.json\n",
    "    # biz_biz_calcula_coluna.json\n",
    "\n",
    "\n",
    "    file_path = os.path.join(folder_path, file_name)\n",
    "    # 'C:\\Users\\PC\\Desktop\\mapeamento_adf\\pipeline\\pipeline' + ['biz_biz_analitico_ep.json', 'biz_biz_base_unimercado_ep.json', 'biz_biz_base_unimercado_ssi.json', 'biz_biz_base_unimercado_sti.json', ...\n",
    "    with open(file_path, 'r') as file:\n",
    "        data = json.load(file)\n",
    "\n",
    "        # Now 'data' contains the JSON data as a Python dictionary\n",
    "        # Convert the JSON object to a text string\n",
    "        json_string = json.dumps(data, indent=2)\n",
    "        word = 'rais'\n",
    "        if word in json_string and not file_name.startswith('wkf'): \n",
    "            print(file_name)\n",
    "        else:\n",
    "            pass"
   ]
  },
  {
   "cell_type": "code",
   "execution_count": 17,
   "metadata": {},
   "outputs": [
    {
     "ename": "NotADirectoryError",
     "evalue": "[WinError 267] The directory name is invalid: 'C:\\\\Users\\\\PC\\\\Desktop\\\\mapeamento_adf\\\\pipeline\\\\pipeline\\\\biz_biz_analitico_ep.json'",
     "output_type": "error",
     "traceback": [
      "\u001b[1;31m---------------------------------------------------------------------------\u001b[0m",
      "\u001b[1;31mNotADirectoryError\u001b[0m                        Traceback (most recent call last)",
      "Cell \u001b[1;32mIn[17], line 8\u001b[0m\n\u001b[0;32m      5\u001b[0m folder_path \u001b[38;5;241m=\u001b[39m \u001b[38;5;124mr\u001b[39m\u001b[38;5;124m'\u001b[39m\u001b[38;5;124mC:\u001b[39m\u001b[38;5;124m\\\u001b[39m\u001b[38;5;124mUsers\u001b[39m\u001b[38;5;124m\\\u001b[39m\u001b[38;5;124mPC\u001b[39m\u001b[38;5;124m\\\u001b[39m\u001b[38;5;124mDesktop\u001b[39m\u001b[38;5;124m\\\u001b[39m\u001b[38;5;124mmapeamento_adf\u001b[39m\u001b[38;5;124m\\\u001b[39m\u001b[38;5;124mpipeline\u001b[39m\u001b[38;5;124m\\\u001b[39m\u001b[38;5;124mpipeline\u001b[39m\u001b[38;5;124m\\\u001b[39m\u001b[38;5;124mbiz_biz_analitico_ep.json\u001b[39m\u001b[38;5;124m'\u001b[39m\n\u001b[0;32m      7\u001b[0m \u001b[38;5;66;03m# List all files in the folder\u001b[39;00m\n\u001b[1;32m----> 8\u001b[0m files \u001b[38;5;241m=\u001b[39m \u001b[43mos\u001b[49m\u001b[38;5;241;43m.\u001b[39;49m\u001b[43mlistdir\u001b[49m\u001b[43m(\u001b[49m\u001b[43mfolder_path\u001b[49m\u001b[43m)\u001b[49m\n\u001b[0;32m      9\u001b[0m \u001b[38;5;66;03m# ['biz_biz_analitico_ep.json', 'biz_biz_base_unimercado_ep.json', 'biz_biz_base_unimercado_ssi.json', 'biz_biz_base_unimercado_sti.json', ...\u001b[39;00m\n\u001b[0;32m     11\u001b[0m \u001b[38;5;28;01mfor\u001b[39;00m file_name \u001b[38;5;129;01min\u001b[39;00m files:\n\u001b[0;32m     12\u001b[0m     \u001b[38;5;66;03m# biz_biz_analitico_ep.json\u001b[39;00m\n\u001b[0;32m     13\u001b[0m     \u001b[38;5;66;03m# biz_biz_base_unimercado_ep.json\u001b[39;00m\n\u001b[0;32m     14\u001b[0m     \u001b[38;5;66;03m# biz_biz_base_unimercado_ssi.json\u001b[39;00m\n\u001b[0;32m     15\u001b[0m     \u001b[38;5;66;03m# biz_biz_base_unimercado_sti.json\u001b[39;00m\n\u001b[0;32m     16\u001b[0m     \u001b[38;5;66;03m# biz_biz_calcula_coluna.json\u001b[39;00m\n",
      "\u001b[1;31mNotADirectoryError\u001b[0m: [WinError 267] The directory name is invalid: 'C:\\\\Users\\\\PC\\\\Desktop\\\\mapeamento_adf\\\\pipeline\\\\pipeline\\\\biz_biz_analitico_ep.json'"
     ]
    }
   ],
   "source": []
  },
  {
   "cell_type": "code",
   "execution_count": null,
   "metadata": {},
   "outputs": [],
   "source": []
  },
  {
   "cell_type": "code",
   "execution_count": null,
   "metadata": {},
   "outputs": [],
   "source": []
  },
  {
   "cell_type": "code",
   "execution_count": null,
   "metadata": {},
   "outputs": [],
   "source": []
  },
  {
   "cell_type": "code",
   "execution_count": 2,
   "metadata": {},
   "outputs": [
    {
     "name": "stdout",
     "output_type": "stream",
     "text": [
      "biz_biz_cnpjs_rfb_rais_publica.json\n",
      "biz_biz_sesi_indicador_12_analitico.json\n",
      "biz_biz_sesi_indicador_12_sintetico.json\n",
      "biz_biz_sesi_indicador_13_analitico.json\n",
      "biz_biz_sesi_indicador_13_sintetico.json\n",
      "biz_biz_sesi_indicador_14_analitico.json\n",
      "biz_biz_sesi_indicador_14_sintetico.json\n",
      "lnd_org_raw_mte_rais_publica_estabelecimento.json\n",
      "lnd_org_raw_rais_estabelecimento.json\n",
      "lnd_org_raw_rais_vinculo.json\n",
      "mssqlserver_check_partition_keep_records.json\n",
      "oracle_check_partition_keep_records.json\n",
      "org_raw_grau_instrucao_rais.json\n",
      "org_raw_me_rais_estabelecimento.json\n",
      "org_raw_mte_rais_publica_estabelecimento.json\n",
      "org_raw_mte_rais_publica_vinculo.json\n",
      "org_raw_raca_rais.json\n",
      "org_raw_rais_estabelecimento.json\n",
      "org_raw_tipo_vinculo_rais.json\n",
      "org_raw_unimercado_rais.json\n",
      "raw_trs_grau_instrucao_rais.json\n",
      "raw_trs_me_rais_estabelecimento.json\n",
      "raw_trs_mte_rais_publica_estabelecimento.json\n",
      "raw_trs_mte_rais_publica_vinculos.json\n",
      "raw_trs_raca_rais.json\n",
      "raw_trs_rais_estabelecimento.json\n",
      "raw_trs_tipo_vinculo_rais.json\n",
      "raw_trs_unimercado_rais.json\n",
      "trs_biz_base_regime_tributario.json\n",
      "trs_biz_base_unificada_cnpjs.json\n",
      "trs_biz_cnpjs_rfb_rais_dw.json\n",
      "trs_biz_fta_rais_estab.json\n",
      "trs_biz_fta_rais_estabelecimentos.json\n",
      "trs_biz_fta_rais_trabalhadores.json\n",
      "trs_biz_mulheres_caged.json\n",
      "trs_biz_mulheres_rais_trabalhadores.json\n",
      "trs_biz_rais_estab_pub.json\n",
      "trs_biz_rais_vinculo_publica.json\n"
     ]
    }
   ],
   "source": [
    "import os\n",
    "import json\n",
    "# Path to the folder\n",
    "folder_path = r'C:\\Users\\PC\\Desktop\\mapeamento_adf\\pipeline\\pipeline'\n",
    "\n",
    "# List all files in the folder\n",
    "files = os.listdir(folder_path)\n",
    "\n",
    "for file_name in files:\n",
    "    file_path = os.path.join(folder_path, file_name)\n",
    "    with open(file_path, 'r') as file:\n",
    "        data = json.load(file)\n",
    "\n",
    "        # Now 'data' contains the JSON data as a Python dictionary\n",
    "        # Convert the JSON object to a text string\n",
    "        json_string = json.dumps(data, indent=2)\n",
    "\n",
    "        word = 'rais'\n",
    "        if word in json_string and not file_name.startswith('wkf'): \n",
    "            print(file_name)\n",
    "        else:\n",
    "            pass"
   ]
  },
  {
   "cell_type": "code",
   "execution_count": 52,
   "metadata": {},
   "outputs": [
    {
     "name": "stdout",
     "output_type": "stream",
     "text": [
      "----- databricks -----\n"
     ]
    },
    {
     "data": {
      "text/plain": [
       "{'type': 'object',\n",
       " 'defaultValue': {'schema': 'me',\n",
       "  'table': 'novo_caged_mov',\n",
       "  'prm_path': '/prm/usr/me_novo_caged/FIEC_me_novo_caged_mov_mapeamento_unificado_raw.xlsx'}}"
      ]
     },
     "execution_count": 52,
     "metadata": {},
     "output_type": "execute_result"
    }
   ],
   "source": [
    "import json\n",
    "\n",
    "# Path to the JSON file\n",
    "file_path = r'C:\\Users\\PC\\Desktop\\[BACKLOG MANUTENCAO] - Excluir esteira duplicada ADF NOVO CAGED\\pipeline\\org_raw_novo_caged_mov.json'\n",
    "\n",
    "# Reading the JSON file\n",
    "with open(file_path, 'r') as file:\n",
    "    data = json.load(file)\n",
    "\n",
    "# Now 'data' contains the JSON data as a Python dictionary\n",
    "print('----- databricks -----')\n",
    "data['properties']['parameters']['tables']"
   ]
  },
  {
   "cell_type": "code",
   "execution_count": 54,
   "metadata": {},
   "outputs": [
    {
     "name": "stdout",
     "output_type": "stream",
     "text": [
      "----- databricks -----\n"
     ]
    },
    {
     "data": {
      "text/plain": [
       "{'tables': {'type': 'object',\n",
       "  'defaultValue': {'schema': 'me',\n",
       "   'table': 'novo_caged_mov',\n",
       "   'table_1': 'caged',\n",
       "   'prm_path': '/prm/usr/me_novo_caged/FIEC_me_novo_caged_mov_mapeamento_unificado_raw.xlsx'}},\n",
       " 'databricks': {'type': 'object',\n",
       "  'defaultValue': {'notebook': '/oni/me/org_raw_me_novo_caged_mov'}},\n",
       " 'env': {'type': 'object', 'defaultValue': {'env': 'dev'}},\n",
       " 'ach_tables': {'type': 'string',\n",
       "  'defaultValue': \"{'schema':'me','table':'novo_caged_mov'}\"}}"
      ]
     },
     "execution_count": 54,
     "metadata": {},
     "output_type": "execute_result"
    }
   ],
   "source": [
    "import json\n",
    "\n",
    "# Path to the JSON file\n",
    "file_path = r'C:\\Users\\PC\\Desktop\\[BACKLOG MANUTENCAO] - Excluir esteira duplicada ADF NOVO CAGED\\pipeline\\org_raw_novo_caged_mov_novo.json'\n",
    "\n",
    "# Reading the JSON file\n",
    "with open(file_path, 'r') as file:\n",
    "    data = json.load(file)\n",
    "\n",
    "# Now 'data' contains the JSON data as a Python dictionary\n",
    "print('----- databricks -----')\n",
    "data['properties']['parameters']"
   ]
  },
  {
   "cell_type": "code",
   "execution_count": 38,
   "metadata": {},
   "outputs": [
    {
     "name": "stdout",
     "output_type": "stream",
     "text": [
      "Parts of 'type': ['crw']\n",
      "Parts of 'schema': ['me']\n",
      "Parts of 'table': ['novo_caged']\n",
      "Parts of 'caged_novo_excluidos': ['/me/novo_caged_exc/']\n",
      "Parts of 'caged_novo_prazo': ['/me/novo_caged_for/']\n",
      "Parts of 'caged_novo_movimentacao': ['/me/novo_caged_mov/']\n",
      "Parts of 'prm': ['/usr/me_novo_caged/FIEC_me_novo_caged_mapeamento_unificado_trusted.xlsx']\n",
      "Parts of 'schema_prm': ['me']\n",
      "Parts of 'table_prm': ['novo_caged']\n"
     ]
    }
   ],
   "source": [
    "data = {\n",
    "    'type': 'crw',\n",
    "    'schema': 'me',\n",
    "    'table': 'novo_caged',\n",
    "    'caged_novo_excluidos': '/me/novo_caged_exc/',\n",
    "    'caged_novo_prazo': '/me/novo_caged_for/',\n",
    "    'caged_novo_movimentacao': '/me/novo_caged_mov/',\n",
    "    'prm': '/usr/me_novo_caged/FIEC_me_novo_caged_mapeamento_unificado_trusted.xlsx',\n",
    "    'schema_prm': 'me',\n",
    "    'table_prm': 'novo_caged'\n",
    "}\n",
    "\n",
    "# Split the strings by colon (if applicable) and print the parts\n",
    "for key, value in data.items():\n",
    "    if isinstance(value, str):\n",
    "        parts = value.split(':')\n",
    "        print(f\"Parts of '{key}': {parts}\")\n"
   ]
  },
  {
   "cell_type": "code",
   "execution_count": 47,
   "metadata": {},
   "outputs": [
    {
     "name": "stdout",
     "output_type": "stream",
     "text": [
      "Parts of 'schema': ['me']\n",
      "Parts of 'table': ['novo_caged']\n",
      "Parts of 'prm_path': ['/prm/usr/me/FIEC_me_novo_caged_mapeamento_unificado_raw.xlsx']\n"
     ]
    }
   ],
   "source": [
    "import json\n",
    "\n",
    "# Path to the JSON file\n",
    "file_path = r'C:\\Users\\PC\\Desktop\\[BACKLOG MANUTENCAO] - Excluir esteira duplicada ADF NOVO CAGED\\pipeline\\org_raw_novo_caged_old.json'\n",
    "\n",
    "# Reading the JSON file\n",
    "with open(file_path, 'r') as file:\n",
    "    data = json.load(file)\n",
    "\n",
    "# Now 'data' contains the JSON data as a Python dictionary\n",
    "# data['properties']['parameters']['tables']['defaultValue']\n",
    "# Split the strings by colon (if applicable) and print the parts\n",
    "    # print(data)\n",
    "    for key, value in data['properties']['parameters']['tables']['defaultValue'].items():\n",
    "        #print(value)\n",
    "        if isinstance(value, str):\n",
    "            parts = value.split(':')\n",
    "            print(f\"Parts of '{key}': {parts}\")"
   ]
  },
  {
   "cell_type": "code",
   "execution_count": 34,
   "metadata": {},
   "outputs": [
    {
     "name": "stdout",
     "output_type": "stream",
     "text": [
      "----- databricks -----\n"
     ]
    },
    {
     "data": {
      "text/plain": [
       "{'schema': 'me',\n",
       " 'table': 'novo_caged_exc',\n",
       " 'prm_path': '/prm/usr/me_novo_caged/FIEC_me_novo_caged_exc_mapeamento_unificado_raw.xlsx'}"
      ]
     },
     "execution_count": 34,
     "metadata": {},
     "output_type": "execute_result"
    }
   ],
   "source": [
    "import json\n",
    "\n",
    "# Path to the JSON file\n",
    "file_path = r'C:\\Users\\PC\\Desktop\\[BACKLOG MANUTENCAO] - Excluir esteira duplicada ADF NOVO CAGED\\pipeline\\org_raw_novo_caged_exc.json'\n",
    "\n",
    "# Reading the JSON file\n",
    "with open(file_path, 'r') as file:\n",
    "    data = json.load(file)\n",
    "\n",
    "# Now 'data' contains the JSON data as a Python dictionary\n",
    "print('----- databricks -----')\n",
    "data['properties']['parameters']['tables']['defaultValue']"
   ]
  },
  {
   "cell_type": "code",
   "execution_count": 56,
   "metadata": {},
   "outputs": [
    {
     "name": "stdout",
     "output_type": "stream",
     "text": [
      "----- databricks org_raw_caged_ajuste -----\n"
     ]
    },
    {
     "data": {
      "text/plain": [
       "{'type': 'object',\n",
       " 'defaultValue': {'path_trs_ipca': 'crw/ibge/ipca',\n",
       "  'path_cadastro_cbo': 'me/cadastro_cbo/',\n",
       "  'path_am_legal': 'oni/bases_referencia/uf',\n",
       "  'path_cnae': 'usr/uniepro/cnae_industrial/',\n",
       "  'path_contribuintes': 'oni/bases_do_projeto/painel_dos_estados/contribuintes/',\n",
       "  'path_cnae_subclasses': 'oni/bases_referencia/cnae_20/cnae_divisao',\n",
       "  'path_municipio': 'oni/bases_referencia/municipios',\n",
       "  'path_caged_antigo': 'me/caged/',\n",
       "  'path_novo_caged': 'me/novo_caged/',\n",
       "  'path_destination': 'oni/painel_dos_estados/caged',\n",
       "  'year_initial_date': 2007,\n",
       "  'min_salary': 300,\n",
       "  'max_salary': 30000,\n",
       "  'destination': '/oni/painel_dos_estados/caged',\n",
       "  'databricks': {'notebook': '/biz/oni/painel_dos_estados/trs_biz_caged'}}}"
      ]
     },
     "execution_count": 56,
     "metadata": {},
     "output_type": "execute_result"
    }
   ],
   "source": [
    "import json\n",
    "\n",
    "# Path to the JSON file\n",
    "file_path = r'C:\\Users\\PC\\Desktop\\[BACKLOG MANUTENCAO] - Excluir esteira duplicada ADF NOVO CAGED\\pipeline\\trs_biz_caged.json'\n",
    "\n",
    "# Reading the JSON file\n",
    "with open(file_path, 'r') as file:\n",
    "    data = json.load(file)\n",
    "\n",
    "# Now 'data' contains the JSON data as a Python dictionary\n",
    "print('----- databricks org_raw_caged_ajuste -----')\n",
    "data['properties']['parameters']['tables']"
   ]
  },
  {
   "cell_type": "code",
   "execution_count": 57,
   "metadata": {},
   "outputs": [
    {
     "name": "stdout",
     "output_type": "stream",
     "text": [
      "----- databricks org_raw_caged_ajuste -----\n"
     ]
    },
    {
     "data": {
      "text/plain": [
       "{'type': 'object',\n",
       " 'defaultValue': {'path_origin': 'me/caged',\n",
       "  'path_territorial_structure': 'corporativo/dim_estrutura_territorial',\n",
       "  'path_cbo': 'uniepro/dim_cadastro_cbo',\n",
       "  'path_cnae': 'uniepro/dim_cnae_subclasses',\n",
       "  'path_age_range': 'uniepro/dim_faixa_etaria',\n",
       "  'path_education_degree': 'uniepro/dim_grau_instrucao',\n",
       "  'path_destination': 'uniepro/fta_caged_kpi',\n",
       "  'destination': '/uniepro/fta_caged_kpi',\n",
       "  'databricks': {'notebook': '/biz/me/trs_biz_fta_caged_kpi'}}}"
      ]
     },
     "execution_count": 57,
     "metadata": {},
     "output_type": "execute_result"
    }
   ],
   "source": [
    "import json\n",
    "\n",
    "# Path to the JSON file\n",
    "file_path = r'C:\\Users\\PC\\Desktop\\[BACKLOG MANUTENCAO] - Excluir esteira duplicada ADF NOVO CAGED\\pipeline\\trs_biz_fta_caged_kpi.json'\n",
    "\n",
    "# Reading the JSON file\n",
    "with open(file_path, 'r') as file:\n",
    "    data = json.load(file)\n",
    "\n",
    "# Now 'data' contains the JSON data as a Python dictionary\n",
    "print('----- databricks org_raw_caged_ajuste -----')\n",
    "data['properties']['parameters']['tables']"
   ]
  },
  {
   "cell_type": "code",
   "execution_count": 58,
   "metadata": {},
   "outputs": [
    {
     "name": "stdout",
     "output_type": "stream",
     "text": [
      "----- databricks org_raw_caged_ajuste -----\n"
     ]
    },
    {
     "data": {
      "text/plain": [
       "{'type': 'object',\n",
       " 'defaultValue': {'path_pnadc': 'ibge/pnadc/',\n",
       "  'path_pnadc_deflatores': 'crw/ibge/deflatores/',\n",
       "  'path_ibge': 'crw/ibge/relatorio_dtb_brasil_municipio/',\n",
       "  'path_cadastro_cbo': 'usr/me/cadastro_cbo/',\n",
       "  'path_ipca': 'crw/ibge/ipca/',\n",
       "  'path_caged': 'me/caged/',\n",
       "  'path_novo_caged': 'me/novo_caged/',\n",
       "  'path_destination': 'oni/monitor_do_emprego_kpis/fta_kpis',\n",
       "  'year_initial_date': 2012,\n",
       "  'min_salary': 1212,\n",
       "  'max_salary': 30000,\n",
       "  'destination': '/oni/monitor_do_emprego_kpis/fta_kpis',\n",
       "  'databricks': {'notebook': '/biz/monitor_de_emprego_kpis/trs_biz_fta_kpis'}}}"
      ]
     },
     "execution_count": 58,
     "metadata": {},
     "output_type": "execute_result"
    }
   ],
   "source": [
    "import json\n",
    "\n",
    "# Path to the JSON file\n",
    "file_path = r'C:\\Users\\PC\\Desktop\\[BACKLOG MANUTENCAO] - Excluir esteira duplicada ADF NOVO CAGED\\pipeline\\trs_biz_fta_kpis.json'\n",
    "\n",
    "# Reading the JSON file\n",
    "with open(file_path, 'r') as file:\n",
    "    data = json.load(file)\n",
    "\n",
    "# Now 'data' contains the JSON data as a Python dictionary\n",
    "print('----- databricks org_raw_caged_ajuste -----')\n",
    "data['properties']['parameters']['tables']"
   ]
  },
  {
   "cell_type": "code",
   "execution_count": 59,
   "metadata": {},
   "outputs": [
    {
     "name": "stdout",
     "output_type": "stream",
     "text": [
      "----- databricks org_raw_caged_ajuste -----\n"
     ]
    },
    {
     "data": {
      "text/plain": [
       "{'type': 'object',\n",
       " 'defaultValue': {'origin': 'me/novo_caged',\n",
       "  'destination': '/oni/painel_metal_mecanica/fta_me_novo_caged_var_emp',\n",
       "  'databricks': {'notebook': '/biz/oni/painel_metal_mecanica/trs_biz_fta_me_novo_caged_var_emp'}}}"
      ]
     },
     "execution_count": 59,
     "metadata": {},
     "output_type": "execute_result"
    }
   ],
   "source": [
    "import json\n",
    "\n",
    "# Path to the JSON file\n",
    "file_path = r'C:\\Users\\PC\\Desktop\\[BACKLOG MANUTENCAO] - Excluir esteira duplicada ADF NOVO CAGED\\pipeline\\trs_biz_fta_me_novo_caged_var_emp.json'\n",
    "\n",
    "# Reading the JSON file\n",
    "with open(file_path, 'r') as file:\n",
    "    data = json.load(file)\n",
    "\n",
    "# Now 'data' contains the JSON data as a Python dictionary\n",
    "print('----- databricks org_raw_caged_ajuste -----')\n",
    "data['properties']['parameters']['tables']"
   ]
  },
  {
   "cell_type": "code",
   "execution_count": 60,
   "metadata": {},
   "outputs": [
    {
     "name": "stdout",
     "output_type": "stream",
     "text": [
      "----- databricks org_raw_caged_ajuste -----\n"
     ]
    },
    {
     "data": {
      "text/plain": [
       "{'type': 'object',\n",
       " 'defaultValue': {'copy_sqldw': 'false',\n",
       "  'source_trs_ipca': 'ibge/ipca/',\n",
       "  'source_cadastro_cbo': 'me/cadastro_cbo/',\n",
       "  'source_cnae_subclasses': 'oni/bases_referencia/cnae/cnae_20/cnae_subclasse/',\n",
       "  'source_contribuintes': 'oni/bases_do_projeto/painel_dos_estados/contribuintes/',\n",
       "  'source_caged_antigo': 'me/caged/',\n",
       "  'source_uf': 'oni/ibge/geo_uf/',\n",
       "  'source_novo_caged': 'me/novo_caged/',\n",
       "  'source_instrucao': 'oni/bases_do_projeto/painel_dos_estados/grau_instrucao_rais/',\n",
       "  'path_destination': 'oni/mulheres_no_mercado_de_trabalho/caged',\n",
       "  'destination': '/mulheres_no_mercado_de_trabalho/caged',\n",
       "  'databricks': {'notebook': '/biz/oni/mulheres_no_mercado_de_trabalho/trs_biz_mulheres_caged'}}}"
      ]
     },
     "execution_count": 60,
     "metadata": {},
     "output_type": "execute_result"
    }
   ],
   "source": [
    "import json\n",
    "\n",
    "# Path to the JSON file\n",
    "file_path = r'C:\\Users\\PC\\Desktop\\[BACKLOG MANUTENCAO] - Excluir esteira duplicada ADF NOVO CAGED\\pipeline\\trs_biz_mulheres_caged.json'\n",
    "\n",
    "# Reading the JSON file\n",
    "with open(file_path, 'r') as file:\n",
    "    data = json.load(file)\n",
    "\n",
    "# Now 'data' contains the JSON data as a Python dictionary\n",
    "print('----- databricks org_raw_caged_ajuste -----')\n",
    "data['properties']['parameters']['tables']"
   ]
  },
  {
   "cell_type": "code",
   "execution_count": 62,
   "metadata": {},
   "outputs": [
    {
     "name": "stdout",
     "output_type": "stream",
     "text": [
      "----- databricks org_raw_caged_ajuste -----\n"
     ]
    },
    {
     "data": {
      "text/plain": [
       "{'tables': {'type': 'object',\n",
       "  'defaultValue': {'raw_ipca_path': 'ibge/ipca',\n",
       "   'path_antigo_caged': 'me/caged',\n",
       "   'path_uf': 'oni/ibge/uf',\n",
       "   'path_cnae': 'oni/bases_referencia/cnae/cnae_20/cnae_grupo',\n",
       "   'path_cbo': 'oni/bases_referencia/cbo/cbo6',\n",
       "   'trs_ipca_path': 'ibge/ipca',\n",
       "   'path_pnadc': 'ibge/pnadc',\n",
       "   'path_novo_caged': 'me/novo_caged',\n",
       "   'path_caged': 'me/caged',\n",
       "   'path_destination': 'oni/painel_indicadores_senai/indicadores_caged',\n",
       "   'destination': '/oni/painel_indicadores_senai/indicadores_caged',\n",
       "   'databricks': {'notebook': '/biz/oni/painel_indicadores_senai/trs_biz_painel_indicadores_senai_caged'}}},\n",
       " 'user_parameters': {'type': 'object', 'defaultValue': {'null': 'null'}},\n",
       " 'env': {'type': 'object', 'defaultValue': {'env': 'dev'}},\n",
       " 'sqldw_copy': {'type': 'bool', 'defaultValue': False},\n",
       " 'sqldw_grant': {'type': 'string'}}"
      ]
     },
     "execution_count": 62,
     "metadata": {},
     "output_type": "execute_result"
    }
   ],
   "source": [
    "import json\n",
    "\n",
    "# Path to the JSON file\n",
    "file_path = r'C:\\Users\\PC\\Desktop\\[BACKLOG MANUTENCAO] - Excluir esteira duplicada ADF NOVO CAGED\\pipeline\\trs_biz_painel_indicadores_senai_caged.json'\n",
    "\n",
    "# Reading the JSON file\n",
    "with open(file_path, 'r') as file:\n",
    "    data = json.load(file)\n",
    "\n",
    "# Now 'data' contains the JSON data as a Python dictionary\n",
    "print('----- databricks org_raw_caged_ajuste -----')\n",
    "data['properties']['parameters']"
   ]
  },
  {
   "cell_type": "code",
   "execution_count": 42,
   "metadata": {},
   "outputs": [],
   "source": [
    "import json\n",
    "\n",
    "# Path to the JSON file\n",
    "file_path = r'C:\\Users\\PC\\Desktop\\[BACKLOG MANUTENCAO] - Excluir esteira duplicada ADF NOVO CAGED\\pipeline\\biz_biz_fta_gestao_financeira_saude_seguranca_indus.json'\n",
    "\n",
    "# Reading the JSON file\n",
    "with open(file_path, 'r') as file:\n",
    "    data = json.load(file)"
   ]
  },
  {
   "cell_type": "code",
   "execution_count": 53,
   "metadata": {},
   "outputs": [
    {
     "name": "stdout",
     "output_type": "stream",
     "text": [
      "{'origins': ['/mtd/corp/centro_responsabilidade_caracteristica', '/orcamento/fta_despesa_rateada_negocio', '/corporativo/dim_hierarquia_entidade_regional'], 'destination': '/orcamento/fta_gestao_financeira_saude_seguranca_indus', 'databricks': {'notebook': '/biz/visao_financeira_sesi_senai/biz_biz_fta_gestao_financeira_saude_seguranca_indus'}}\n",
      "{'origins': ['/orcamento/fta_gestao_financeira', '/orcamento/fta_gestao_financeira_saude_seguranca_indus', '/corporativo/dim_hierarquia_entidade_regional'], 'destination': '/orcamento/fta_gestao_financeira_saude_seguranca_indus_kpi_pivot', 'databricks': {'notebook': '/biz/visao_financeira_sesi_senai/biz_biz_fta_gestao_financeira_saude_seguranca_indus_kpi_pivot'}}\n"
     ]
    }
   ],
   "source": [
    "print(data['properties']['parameters']['tables']['defaultValue']['fta_gestao_financeira_ssi'])\n",
    "\n",
    "print(data['properties']['parameters']['tables']['defaultValue']['fta_gestao_financeira_ssi_kpi_pivot'])"
   ]
  },
  {
   "cell_type": "code",
   "execution_count": 41,
   "metadata": {},
   "outputs": [
    {
     "name": "stdout",
     "output_type": "stream",
     "text": [
      "destination {'fta_gestao_financeira_ssi': {'origins': ['/mtd/corp/centro_responsabilidade_caracteristica', '/orcamento/fta_despesa_rateada_negocio', '/corporativo/dim_hierarquia_entidade_regional'], 'destination': '/orcamento/fta_gestao_financeira_saude_seguranca_indus', 'databricks': {'notebook': '/biz/visao_financeira_sesi_senai/biz_biz_fta_gestao_financeira_saude_seguranca_indus'}}, 'fta_gestao_financeira_ssi_kpi_pivot': {'origins': ['/orcamento/fta_gestao_financeira', '/orcamento/fta_gestao_financeira_saude_seguranca_indus', '/corporativo/dim_hierarquia_entidade_regional'], 'destination': '/orcamento/fta_gestao_financeira_saude_seguranca_indus_kpi_pivot', 'databricks': {'notebook': '/biz/visao_financeira_sesi_senai/biz_biz_fta_gestao_financeira_saude_seguranca_indus_kpi_pivot'}}}\n"
     ]
    }
   ],
   "source": [
    "import json\n",
    "\n",
    "# Path to the JSON file\n",
    "file_path = r'C:\\Users\\PC\\Desktop\\[BACKLOG MANUTENCAO] - Excluir esteira duplicada ADF NOVO CAGED\\pipeline\\biz_biz_fta_gestao_financeira_saude_seguranca_indus.json'\n",
    "\n",
    "# Reading the JSON file\n",
    "with open(file_path, 'r') as file:\n",
    "    data = json.load(file)\n",
    "    print('destination', data['properties']['parameters']['tables']['defaultValue'])\n",
    "    #print('databricks', data['properties']['parameters']['tables']['defaultValue']['databricks'])\n",
    "\n",
    "    # Now 'data' contains the JSON data as a Python dictionary\n",
    "    #for key, value in data['properties']['parameters']['tables']['defaultValue'].items():\n",
    "            #print(value)\n",
    "    #x = [value for key, value in data['properties']['parameters']['tables']['defaultValue'].items()]\n",
    "    #print(x[0:-3])\n",
    "            #if isinstance(value, str):\n",
    "            #    parts = value.split(':')\n",
    "            #    print(parts)\n",
    "                #print(f\"Parts of '{key}': {parts}\")"
   ]
  },
  {
   "cell_type": "code",
   "execution_count": 30,
   "metadata": {},
   "outputs": [
    {
     "name": "stdout",
     "output_type": "stream",
     "text": [
      "destination oni/painel_indicadores_senai/indicadores_caged\n",
      "databricks {'notebook': '/biz/oni/painel_indicadores_senai/trs_biz_painel_indicadores_senai_caged'}\n",
      "['ibge/ipca', 'me/caged', 'oni/ibge/uf', 'oni/bases_referencia/cnae/cnae_20/cnae_grupo', 'oni/bases_referencia/cbo/cbo6', 'ibge/ipca', 'ibge/pnadc', 'me/novo_caged', 'me/caged']\n"
     ]
    }
   ],
   "source": [
    "import json\n",
    "\n",
    "# Path to the JSON file\n",
    "file_path = r'C:\\Users\\PC\\Desktop\\[BACKLOG MANUTENCAO] - Excluir esteira duplicada ADF NOVO CAGED\\pipeline\\trs_biz_painel_indicadores_senai_caged.json'\n",
    "\n",
    "# Reading the JSON file\n",
    "with open(file_path, 'r') as file:\n",
    "    data = json.load(file)\n",
    "    print('destination', data['properties']['parameters']['tables']['defaultValue']['path_destination'])\n",
    "    print('databricks', data['properties']['parameters']['tables']['defaultValue']['databricks'])\n",
    "\n",
    "    # Now 'data' contains the JSON data as a Python dictionary\n",
    "    #for key, value in data['properties']['parameters']['tables']['defaultValue'].items():\n",
    "            #print(value)\n",
    "    x = [value for key, value in data['properties']['parameters']['tables']['defaultValue'].items()]\n",
    "    print(x[0:-3])\n",
    "            #if isinstance(value, str):\n",
    "            #    parts = value.split(':')\n",
    "            #    print(parts)\n",
    "                #print(f\"Parts of '{key}': {parts}\")"
   ]
  },
  {
   "cell_type": "code",
   "execution_count": null,
   "metadata": {},
   "outputs": [],
   "source": []
  },
  {
   "cell_type": "code",
   "execution_count": 59,
   "metadata": {},
   "outputs": [
    {
     "name": "stdout",
     "output_type": "stream",
     "text": [
      "trs_biz_base_regime_tributario.json\n",
      "trs_biz_base_unificada_cnpjs.json\n",
      "trs_biz_cnpjs_rfb_rais_dw.json\n",
      "trs_biz_fta_rais_estab.json\n",
      "trs_biz_fta_rais_estabelecimentos.json\n",
      "trs_biz_fta_rais_trabalhadores.json\n",
      "trs_biz_mulheres_caged.json\n",
      "trs_biz_mulheres_rais_trabalhadores.json\n",
      "trs_biz_rais_estab_pub.json\n",
      "trs_biz_rais_vinculo_publica.json\n"
     ]
    }
   ],
   "source": [
    "import os\n",
    "import json\n",
    "import re\n",
    "# Path to the folder\n",
    "\n",
    "folder_path = r'C:\\Users\\PC\\Desktop\\mapeamento_adf\\pipeline\\pipeline'\n",
    "\n",
    "# List all files in the folder\n",
    "files = os.listdir(folder_path)\n",
    "# ['biz_biz_analitico_ep.json', 'biz_biz_base_unimercado_ep.json', 'biz_biz_base_unimercado_ssi.json', 'biz_biz_base_unimercado_sti.json', ...\n",
    "\n",
    "for file_name in files:\n",
    "    # biz_biz_analitico_ep.json\n",
    "    # biz_biz_base_unimercado_ep.json\n",
    "    # biz_biz_base_unimercado_ssi.json\n",
    "    # biz_biz_base_unimercado_sti.json\n",
    "    # biz_biz_calcula_coluna.json\n",
    "\n",
    "\n",
    "    file_path = os.path.join(folder_path, file_name)\n",
    "    # 'C:\\Users\\PC\\Desktop\\mapeamento_adf\\pipeline\\pipeline' + ['biz_biz_analitico_ep.json', 'biz_biz_base_unimercado_ep.json', 'biz_biz_base_unimercado_ssi.json', 'biz_biz_base_unimercado_sti.json', ...\n",
    "    with open(file_path, 'r') as file:\n",
    "        data = json.load(file)\n",
    "\n",
    "        # Now 'data' contains the JSON data as a Python dictionary\n",
    "        # Convert the JSON object to a text string\n",
    "        json_string = json.dumps(data, indent=2)\n",
    "        word = 'rais'\n",
    "        layer = 'trs_biz'\n",
    "        if word in json_string:\n",
    "            # if re.search(rf'\\b{word}\\b', json_string, re.IGNORECASE) and not file_name.startswith('wkf') and file_name.startswith(layer):\n",
    "            if word in json_string and file_name.startswith('trs_biz') and not file_name.startswith('wkf'): \n",
    "                #>> it doesn't work, cause the expression 'if word in json_string' ain't looking for the 'word in the specific sequence'\n",
    "                print(file_name)                           \n",
    "                    #print(data)\n",
    "                    #print('destination', data['properties']['parameters']['tables']['defaultValue']['path_destination'])\n",
    "                    #print('databricks', data['properties']['parameters']['tables']['defaultValue']['databricks'])\n",
    "\n",
    "                    # Now 'data' contains the JSON data as a Python dictionary\n",
    "                    #for key, value in data['properties']['parameters']['tables']['defaultValue'].items():\n",
    "                            #print(value)\n",
    "                    #x = [value for key, value in data['properties']['parameters']['tables']['defaultValue'].items()]\n",
    "                    #print(x[0:-3])\n",
    "        else:\n",
    "            pass"
   ]
  },
  {
   "cell_type": "code",
   "execution_count": 13,
   "metadata": {},
   "outputs": [
    {
     "name": "stdout",
     "output_type": "stream",
     "text": [
      "trs_biz_base_regime_tributario.json\n",
      "path_destination\n",
      "trs_biz_base_unificada_cnpjs.json\n",
      "path_destination\n",
      "trs_biz_cnpjs_rfb_rais_dw.json\n",
      "path_destination\n",
      "trs_biz_fta_rais_estab.json\n"
     ]
    },
    {
     "ename": "KeyError",
     "evalue": "'path_destination'",
     "output_type": "error",
     "traceback": [
      "\u001b[1;31m---------------------------------------------------------------------------\u001b[0m",
      "\u001b[1;31mKeyError\u001b[0m                                  Traceback (most recent call last)",
      "Cell \u001b[1;32mIn[13], line 37\u001b[0m\n\u001b[0;32m     35\u001b[0m \u001b[38;5;28;01mwith\u001b[39;00m \u001b[38;5;28mopen\u001b[39m(file_path, \u001b[38;5;124m'\u001b[39m\u001b[38;5;124mr\u001b[39m\u001b[38;5;124m'\u001b[39m) \u001b[38;5;28;01mas\u001b[39;00m file:\n\u001b[0;32m     36\u001b[0m     data \u001b[38;5;241m=\u001b[39m json\u001b[38;5;241m.\u001b[39mload(file)\n\u001b[1;32m---> 37\u001b[0m     \u001b[38;5;28;01mif\u001b[39;00m \u001b[43mdata\u001b[49m\u001b[43m[\u001b[49m\u001b[38;5;124;43m'\u001b[39;49m\u001b[38;5;124;43mproperties\u001b[39;49m\u001b[38;5;124;43m'\u001b[39;49m\u001b[43m]\u001b[49m\u001b[43m[\u001b[49m\u001b[38;5;124;43m'\u001b[39;49m\u001b[38;5;124;43mparameters\u001b[39;49m\u001b[38;5;124;43m'\u001b[39;49m\u001b[43m]\u001b[49m\u001b[43m[\u001b[49m\u001b[38;5;124;43m'\u001b[39;49m\u001b[38;5;124;43mtables\u001b[39;49m\u001b[38;5;124;43m'\u001b[39;49m\u001b[43m]\u001b[49m\u001b[43m[\u001b[49m\u001b[38;5;124;43m'\u001b[39;49m\u001b[38;5;124;43mdefaultValue\u001b[39;49m\u001b[38;5;124;43m'\u001b[39;49m\u001b[43m]\u001b[49m\u001b[43m[\u001b[49m\u001b[38;5;124;43m'\u001b[39;49m\u001b[38;5;124;43mpath_destination\u001b[39;49m\u001b[38;5;124;43m'\u001b[39;49m\u001b[43m]\u001b[49m:\n\u001b[0;32m     38\u001b[0m         \u001b[38;5;28mprint\u001b[39m(\u001b[38;5;124m'\u001b[39m\u001b[38;5;124mpath_destination\u001b[39m\u001b[38;5;124m'\u001b[39m)\n\u001b[0;32m     40\u001b[0m     \u001b[38;5;28;01melse\u001b[39;00m:\n",
      "\u001b[1;31mKeyError\u001b[0m: 'path_destination'"
     ]
    }
   ],
   "source": [
    "import os\n",
    "import json\n",
    "import re\n",
    "# Path to the folder\n",
    "\n",
    "folder_path = r'C:\\Users\\PC\\Desktop\\mapeamento_adf\\pipeline\\pipeline'\n",
    "\n",
    "# List all files in the folder\n",
    "files = os.listdir(folder_path)\n",
    "# ['biz_biz_analitico_ep.json', 'biz_biz_base_unimercado_ep.json', 'biz_biz_base_unimercado_ssi.json', 'biz_biz_base_unimercado_sti.json', ...\n",
    "\n",
    "for file_name in files:\n",
    "    # biz_biz_analitico_ep.json\n",
    "    # biz_biz_base_unimercado_ep.json\n",
    "    # biz_biz_base_unimercado_ssi.json\n",
    "    # biz_biz_base_unimercado_sti.json\n",
    "    # biz_biz_calcula_coluna.json\n",
    "\n",
    "\n",
    "    file_path = os.path.join(folder_path, file_name)\n",
    "    # 'C:\\Users\\PC\\Desktop\\mapeamento_adf\\pipeline\\pipeline' + ['biz_biz_analitico_ep.json', 'biz_biz_base_unimercado_ep.json', 'biz_biz_base_unimercado_ssi.json', 'biz_biz_base_unimercado_sti.json', ...\n",
    "    with open(file_path, 'r') as file:\n",
    "        data = json.load(file)\n",
    "\n",
    "        # Now 'data' contains the JSON data as a Python dictionary\n",
    "        # Convert the JSON object to a text string\n",
    "        json_string = json.dumps(data, indent=2)\n",
    "        word = 'rais'\n",
    "        layer = 'trs_biz'\n",
    "        if word in json_string:\n",
    "            # if re.search(rf'\\b{word}\\b', json_string, re.IGNORECASE) and not file_name.startswith('wkf') and file_name.startswith(layer):\n",
    "            if word in json_string and file_name.startswith('trs_biz') and not file_name.startswith('wkf'): \n",
    "                #>> it doesn't work, cause the expression 'if word in json_string' ain't looking for the 'word in the specific sequence'\n",
    "                print(file_name)\n",
    "                with open(file_path, 'r') as file:\n",
    "                    data = json.load(file)\n",
    "                    if data['properties']['parameters']['tables']['defaultValue']['path_destination']:\n",
    "                        print('path_destination')\n",
    "                    \n",
    "                    else:\n",
    "                        print(data['properties']['parameters']['tables']['defaultValue']['destination'])\n",
    "                        #print('destination')\n",
    "\n",
    "                    # elif data['properties']['parameters']:\n",
    "                    #     print(data['properties']['parameters']) \n",
    "                    # elif data['properties']:\n",
    "                    #     print(data['properties'])\n",
    "                    # else:\n",
    "                    #     print(file_name)                            \n",
    "                    #print(data)\n",
    "                    #print('destination', data['properties']['parameters']['tables']['defaultValue']['path_destination'])\n",
    "                    #print('databricks', data['properties']['parameters']['tables']['defaultValue']['databricks'])\n",
    "\n",
    "                    # Now 'data' contains the JSON data as a Python dictionary\n",
    "                    #for key, value in data['properties']['parameters']['tables']['defaultValue'].items():\n",
    "                            #print(value)\n",
    "                    #x = [value for key, value in data['properties']['parameters']['tables']['defaultValue'].items()]\n",
    "                    #print(x[0:-3])\n",
    "        else:\n",
    "            pass"
   ]
  },
  {
   "cell_type": "code",
   "execution_count": 19,
   "metadata": {},
   "outputs": [
    {
     "ename": "KeyError",
     "evalue": "'path_destination'",
     "output_type": "error",
     "traceback": [
      "\u001b[1;31m---------------------------------------------------------------------------\u001b[0m",
      "\u001b[1;31mKeyError\u001b[0m                                  Traceback (most recent call last)",
      "Cell \u001b[1;32mIn[19], line 9\u001b[0m\n\u001b[0;32m      7\u001b[0m \u001b[38;5;28;01mwith\u001b[39;00m \u001b[38;5;28mopen\u001b[39m(file_path, \u001b[38;5;124m'\u001b[39m\u001b[38;5;124mr\u001b[39m\u001b[38;5;124m'\u001b[39m) \u001b[38;5;28;01mas\u001b[39;00m file:\n\u001b[0;32m      8\u001b[0m     data \u001b[38;5;241m=\u001b[39m json\u001b[38;5;241m.\u001b[39mload(file)\n\u001b[1;32m----> 9\u001b[0m     \u001b[38;5;28;01mif\u001b[39;00m \u001b[43mdata\u001b[49m\u001b[43m[\u001b[49m\u001b[38;5;124;43m'\u001b[39;49m\u001b[38;5;124;43mproperties\u001b[39;49m\u001b[38;5;124;43m'\u001b[39;49m\u001b[43m]\u001b[49m\u001b[43m[\u001b[49m\u001b[38;5;124;43m'\u001b[39;49m\u001b[38;5;124;43mparameters\u001b[39;49m\u001b[38;5;124;43m'\u001b[39;49m\u001b[43m]\u001b[49m\u001b[43m[\u001b[49m\u001b[38;5;124;43m'\u001b[39;49m\u001b[38;5;124;43mtables\u001b[39;49m\u001b[38;5;124;43m'\u001b[39;49m\u001b[43m]\u001b[49m\u001b[43m[\u001b[49m\u001b[38;5;124;43m'\u001b[39;49m\u001b[38;5;124;43mdefaultValue\u001b[39;49m\u001b[38;5;124;43m'\u001b[39;49m\u001b[43m]\u001b[49m\u001b[43m[\u001b[49m\u001b[38;5;124;43m'\u001b[39;49m\u001b[38;5;124;43mpath_destination\u001b[39;49m\u001b[38;5;124;43m'\u001b[39;49m\u001b[43m]\u001b[49m:\n\u001b[0;32m     10\u001b[0m         \u001b[38;5;28mprint\u001b[39m(\u001b[38;5;124m'\u001b[39m\u001b[38;5;124msdsada\u001b[39m\u001b[38;5;124m'\u001b[39m)\n\u001b[0;32m     11\u001b[0m     \u001b[38;5;28;01melse\u001b[39;00m:\n",
      "\u001b[1;31mKeyError\u001b[0m: 'path_destination'"
     ]
    }
   ],
   "source": [
    "import json\n",
    "\n",
    "# Path to the JSON file\n",
    "file_path = r'C:\\Users\\PC\\Desktop\\mapeamento_adf\\pipeline\\pipeline\\trs_biz_fta_rais_estab.json'\n",
    "\n",
    "# Reading the JSON file\n",
    "with open(file_path, 'r') as file:\n",
    "    data = json.load(file)\n",
    "    if data['properties']['parameters']['tables']['defaultValue']['path_destination']:\n",
    "        print('sdsada')\n",
    "    else:\n",
    "        print('dasdasdasdasda')\n",
    "    #print(data['properties']['parameters']['tables']['defaultValue']['path_destination'])\n",
    "    #print('databricks', data['properties']['parameters']['tables']['defaultValue']['databricks'])"
   ]
  },
  {
   "cell_type": "code",
   "execution_count": 37,
   "metadata": {},
   "outputs": [
    {
     "name": "stdout",
     "output_type": "stream",
     "text": [
      "{'type': 'object', 'defaultValue': {'raw_ipca_path': 'ibge/ipca', 'path_antigo_caged': 'me/caged', 'path_uf': 'oni/ibge/uf', 'path_cnae': 'oni/bases_referencia/cnae/cnae_20/cnae_grupo', 'path_cbo': 'oni/bases_referencia/cbo/cbo6', 'trs_ipca_path': 'ibge/ipca', 'path_pnadc': 'ibge/pnadc', 'path_novo_caged': 'me/novo_caged', 'path_caged': 'me/caged', 'path_destination': 'oni/painel_indicadores_senai/indicadores_caged', 'destination': '/oni/painel_indicadores_senai/indicadores_caged', 'databricks': {'notebook': '/biz/oni/painel_indicadores_senai/trs_biz_painel_indicadores_senai_caged'}}}\n",
      "{'raw_ipca_path': 'ibge/ipca', 'path_antigo_caged': 'me/caged', 'path_uf': 'oni/ibge/uf', 'path_cnae': 'oni/bases_referencia/cnae/cnae_20/cnae_grupo', 'path_cbo': 'oni/bases_referencia/cbo/cbo6', 'trs_ipca_path': 'ibge/ipca', 'path_pnadc': 'ibge/pnadc', 'path_novo_caged': 'me/novo_caged', 'path_caged': 'me/caged', 'path_destination': 'oni/painel_indicadores_senai/indicadores_caged', 'destination': '/oni/painel_indicadores_senai/indicadores_caged', 'databricks': {'notebook': '/biz/oni/painel_indicadores_senai/trs_biz_painel_indicadores_senai_caged'}}\n"
     ]
    }
   ],
   "source": [
    "# Sample dictionary\n",
    "person = {'tables': {'type': 'object',\n",
    "  'defaultValue': {'raw_ipca_path': 'ibge/ipca',\n",
    "   'path_antigo_caged': 'me/caged',\n",
    "   'path_uf': 'oni/ibge/uf',\n",
    "   'path_cnae': 'oni/bases_referencia/cnae/cnae_20/cnae_grupo',\n",
    "   'path_cbo': 'oni/bases_referencia/cbo/cbo6',\n",
    "   'trs_ipca_path': 'ibge/ipca',\n",
    "   'path_pnadc': 'ibge/pnadc',\n",
    "   'path_novo_caged': 'me/novo_caged',\n",
    "   'path_caged': 'me/caged',\n",
    "   'path_destination': 'oni/painel_indicadores_senai/indicadores_caged',\n",
    "   'destination': '/oni/painel_indicadores_senai/indicadores_caged',\n",
    "   'databricks': {'notebook': '/biz/oni/painel_indicadores_senai/trs_biz_painel_indicadores_senai_caged'}}}}\n",
    "# Using get method\n",
    "name = person.get('tables', {})  # Returns 'Alice'\n",
    "print(name)\n",
    "\n",
    "name_ = person.get('tables', {}).get('defaultValue', {})\n",
    "print(name_)"
   ]
  },
  {
   "cell_type": "code",
   "execution_count": 45,
   "metadata": {},
   "outputs": [
    {
     "name": "stdout",
     "output_type": "stream",
     "text": [
      "regime_tributario\n",
      "cadastro_socio_f\n",
      "qualif_socio\n",
      "unificada_cnpjs\n",
      "rfb_siafi\n",
      "municipios\n",
      "path_destination\n",
      "destination\n",
      "databricks\n"
     ]
    }
   ],
   "source": [
    "data = {\n",
    "    'regime_tributario': '/rfb_cnpj/regime_tributario_f',\n",
    "    'cadastro_socio_f': '/rfb_cnpj/cadastro_socio_f',\n",
    "    'qualif_socio': '/rfb_cnpj/tabelas_auxiliares_f/qualif_socio',\n",
    "    'unificada_cnpjs': '/oni/base_unica_cnpjs/cnpjs_rfb_rais',\n",
    "    'rfb_siafi': '/oni/governo_federal/orcamento_da_uniao/rfb/siafi',\n",
    "    'municipios': '/oni/bases_referencia/municipios',\n",
    "    'path_destination': 'oni/base_unica_cnpjs/regime_tributario',\n",
    "    'destination': '/oni/base_unica_cnpjs/regime_tributario',\n",
    "    'databricks': {'notebook': '/biz/oni/base_unica_cnpjs/trs_biz_base_regime_tributario'}\n",
    "}\n",
    "\n",
    "# Iterate over the dictionary values\n",
    "for value in data.keys():\n",
    "    print(value)"
   ]
  },
  {
   "cell_type": "code",
   "execution_count": 44,
   "metadata": {},
   "outputs": [
    {
     "name": "stdout",
     "output_type": "stream",
     "text": [
      "/rfb_cnpj/regime_tributario_f\n",
      "/rfb_cnpj/cadastro_socio_f\n",
      "/rfb_cnpj/tabelas_auxiliares_f/qualif_socio\n",
      "/oni/base_unica_cnpjs/cnpjs_rfb_rais\n",
      "/oni/governo_federal/orcamento_da_uniao/rfb/siafi\n",
      "/oni/bases_referencia/municipios\n",
      "oni/base_unica_cnpjs/regime_tributario\n",
      "/oni/base_unica_cnpjs/regime_tributario\n",
      "{'notebook': '/biz/oni/base_unica_cnpjs/trs_biz_base_regime_tributario'}\n"
     ]
    }
   ],
   "source": [
    "data = {\n",
    "    'regime_tributario': '/rfb_cnpj/regime_tributario_f',\n",
    "    'cadastro_socio_f': '/rfb_cnpj/cadastro_socio_f',\n",
    "    'qualif_socio': '/rfb_cnpj/tabelas_auxiliares_f/qualif_socio',\n",
    "    'unificada_cnpjs': '/oni/base_unica_cnpjs/cnpjs_rfb_rais',\n",
    "    'rfb_siafi': '/oni/governo_federal/orcamento_da_uniao/rfb/siafi',\n",
    "    'municipios': '/oni/bases_referencia/municipios',\n",
    "    'path_destination': 'oni/base_unica_cnpjs/regime_tributario',\n",
    "    'destination': '/oni/base_unica_cnpjs/regime_tributario',\n",
    "    'databricks': {'notebook': '/biz/oni/base_unica_cnpjs/trs_biz_base_regime_tributario'}\n",
    "}\n",
    "\n",
    "# Iterate over the dictionary values\n",
    "for value in data.values():\n",
    "    print(value)\n"
   ]
  },
  {
   "cell_type": "code",
   "execution_count": 77,
   "metadata": {},
   "outputs": [
    {
     "name": "stdout",
     "output_type": "stream",
     "text": [
      "oni/base_unica_cnpjs/cnpjs_rfb_rais_dw\n",
      "path_destination oni/base_unica_cnpjs/cnpjs_rfb_rais_dw\n",
      "defaultValue {'source_1': '/oni/base_unica_cnpjs/cnpjs_rfb_rais', 'path_destination': 'oni/base_unica_cnpjs/cnpjs_rfb_rais_dw', 'destination': '/oni/base_unica_cnpjs/cnpjs_rfb_rais_dw', 'databricks': {'notebook': '/biz/oni/base_unica_cnpjs/trs_biz_cnpjs_rfb_rais_dw'}}\n"
     ]
    },
    {
     "ename": "TypeError",
     "evalue": "expected string or bytes-like object",
     "output_type": "error",
     "traceback": [
      "\u001b[1;31m---------------------------------------------------------------------------\u001b[0m",
      "\u001b[1;31mTypeError\u001b[0m                                 Traceback (most recent call last)",
      "Cell \u001b[1;32mIn[77], line 25\u001b[0m\n\u001b[0;32m     20\u001b[0m     valor \u001b[38;5;241m=\u001b[39m [value \u001b[38;5;28;01mfor\u001b[39;00m value \u001b[38;5;129;01min\u001b[39;00m data_dict_values\u001b[38;5;241m.\u001b[39mvalues()]\n\u001b[0;32m     21\u001b[0m     \u001b[38;5;66;03m#print(valor)\u001b[39;00m\n\u001b[0;32m     22\u001b[0m     \u001b[38;5;66;03m#print(path_destination)\u001b[39;00m\n\u001b[0;32m     23\u001b[0m     \u001b[38;5;66;03m#if path_destination not in valor:\u001b[39;00m\n\u001b[0;32m     24\u001b[0m     \u001b[38;5;66;03m#    print('sdfsdfsf')\u001b[39;00m\n\u001b[1;32m---> 25\u001b[0m     filtered_list \u001b[38;5;241m=\u001b[39m [item \u001b[38;5;28;01mfor\u001b[39;00m item \u001b[38;5;129;01min\u001b[39;00m valor \u001b[38;5;28;01mif\u001b[39;00m re\u001b[38;5;241m.\u001b[39msearch(\u001b[38;5;124mrf\u001b[39m\u001b[38;5;124m'\u001b[39m\u001b[38;5;124m\\\u001b[39m\u001b[38;5;124mb\u001b[39m\u001b[38;5;132;01m{\u001b[39;00mword\u001b[38;5;132;01m}\u001b[39;00m\u001b[38;5;124m\\\u001b[39m\u001b[38;5;124mb\u001b[39m\u001b[38;5;124m'\u001b[39m, valor, re\u001b[38;5;241m.\u001b[39mIGNORECASE) ]\n\u001b[0;32m     27\u001b[0m     \u001b[38;5;28mprint\u001b[39m(filtered_list)\n\u001b[0;32m     29\u001b[0m     \u001b[38;5;66;03m#else:\u001b[39;00m\n\u001b[0;32m     30\u001b[0m     \u001b[38;5;66;03m#    print('dasdasdasdasdasda')\u001b[39;00m\n\u001b[0;32m     31\u001b[0m \n\u001b[0;32m     32\u001b[0m \n\u001b[0;32m     33\u001b[0m \u001b[38;5;28;01melse\u001b[39;00m:\n",
      "Cell \u001b[1;32mIn[77], line 25\u001b[0m, in \u001b[0;36m<listcomp>\u001b[1;34m(.0)\u001b[0m\n\u001b[0;32m     20\u001b[0m     valor \u001b[38;5;241m=\u001b[39m [value \u001b[38;5;28;01mfor\u001b[39;00m value \u001b[38;5;129;01min\u001b[39;00m data_dict_values\u001b[38;5;241m.\u001b[39mvalues()]\n\u001b[0;32m     21\u001b[0m     \u001b[38;5;66;03m#print(valor)\u001b[39;00m\n\u001b[0;32m     22\u001b[0m     \u001b[38;5;66;03m#print(path_destination)\u001b[39;00m\n\u001b[0;32m     23\u001b[0m     \u001b[38;5;66;03m#if path_destination not in valor:\u001b[39;00m\n\u001b[0;32m     24\u001b[0m     \u001b[38;5;66;03m#    print('sdfsdfsf')\u001b[39;00m\n\u001b[1;32m---> 25\u001b[0m     filtered_list \u001b[38;5;241m=\u001b[39m [item \u001b[38;5;28;01mfor\u001b[39;00m item \u001b[38;5;129;01min\u001b[39;00m valor \u001b[38;5;28;01mif\u001b[39;00m \u001b[43mre\u001b[49m\u001b[38;5;241;43m.\u001b[39;49m\u001b[43msearch\u001b[49m\u001b[43m(\u001b[49m\u001b[38;5;124;43mrf\u001b[39;49m\u001b[38;5;124;43m'\u001b[39;49m\u001b[38;5;124;43m\\\u001b[39;49m\u001b[38;5;124;43mb\u001b[39;49m\u001b[38;5;132;43;01m{\u001b[39;49;00m\u001b[43mword\u001b[49m\u001b[38;5;132;43;01m}\u001b[39;49;00m\u001b[38;5;124;43m\\\u001b[39;49m\u001b[38;5;124;43mb\u001b[39;49m\u001b[38;5;124;43m'\u001b[39;49m\u001b[43m,\u001b[49m\u001b[43m \u001b[49m\u001b[43mvalor\u001b[49m\u001b[43m,\u001b[49m\u001b[43m \u001b[49m\u001b[43mre\u001b[49m\u001b[38;5;241;43m.\u001b[39;49m\u001b[43mIGNORECASE\u001b[49m\u001b[43m)\u001b[49m ]\n\u001b[0;32m     27\u001b[0m     \u001b[38;5;28mprint\u001b[39m(filtered_list)\n\u001b[0;32m     29\u001b[0m     \u001b[38;5;66;03m#else:\u001b[39;00m\n\u001b[0;32m     30\u001b[0m     \u001b[38;5;66;03m#    print('dasdasdasdasdasda')\u001b[39;00m\n\u001b[0;32m     31\u001b[0m \n\u001b[0;32m     32\u001b[0m \n\u001b[0;32m     33\u001b[0m \u001b[38;5;28;01melse\u001b[39;00m:\n",
      "File \u001b[1;32mc:\\Users\\PC\\miniconda3\\envs\\great_expectations\\lib\\re.py:201\u001b[0m, in \u001b[0;36msearch\u001b[1;34m(pattern, string, flags)\u001b[0m\n\u001b[0;32m    198\u001b[0m \u001b[38;5;28;01mdef\u001b[39;00m \u001b[38;5;21msearch\u001b[39m(pattern, string, flags\u001b[38;5;241m=\u001b[39m\u001b[38;5;241m0\u001b[39m):\n\u001b[0;32m    199\u001b[0m \u001b[38;5;250m    \u001b[39m\u001b[38;5;124;03m\"\"\"Scan through string looking for a match to the pattern, returning\u001b[39;00m\n\u001b[0;32m    200\u001b[0m \u001b[38;5;124;03m    a Match object, or None if no match was found.\"\"\"\u001b[39;00m\n\u001b[1;32m--> 201\u001b[0m     \u001b[38;5;28;01mreturn\u001b[39;00m \u001b[43m_compile\u001b[49m\u001b[43m(\u001b[49m\u001b[43mpattern\u001b[49m\u001b[43m,\u001b[49m\u001b[43m \u001b[49m\u001b[43mflags\u001b[49m\u001b[43m)\u001b[49m\u001b[38;5;241;43m.\u001b[39;49m\u001b[43msearch\u001b[49m\u001b[43m(\u001b[49m\u001b[43mstring\u001b[49m\u001b[43m)\u001b[49m\n",
      "\u001b[1;31mTypeError\u001b[0m: expected string or bytes-like object"
     ]
    }
   ],
   "source": [
    "import json\n",
    "\n",
    "# Path to the JSON file\n",
    "file_path = r'C:\\Users\\PC\\Desktop\\mapeamento_adf\\pipeline\\pipeline\\trs_biz_cnpjs_rfb_rais_dw.json'\n",
    "\n",
    "# Reading the JSON file\n",
    "with open(file_path, 'r') as file:\n",
    "    data = json.load(file)\n",
    "    path_destination = data.get('properties', {}).get('parameters', {}).get('tables', {}).get('defaultValue', {}).get('path_destination')\n",
    "    print(path_destination)\n",
    "    # dictionary.get(key, default=None)\n",
    "    #print(data.get('properties', {}).get('parameters', {}))\n",
    "    if path_destination:\n",
    "        # if every single one exists data.get('properties', {}).get('parameters', {}).get('tables', {}).get('defaultValue', {}).get('path_destination')\n",
    "        print('path_destination' , data['properties']['parameters']['tables']['defaultValue']['path_destination'])\n",
    "        print('defaultValue' , data['properties']['parameters']['tables']['defaultValue'])\n",
    "        data_dict_values = data['properties']['parameters']['tables']['defaultValue']    \n",
    "        #for value in data_dict_values.values():\n",
    "        #    print('VALUES',value)\n",
    "        valor = [value for value in data_dict_values.values()]\n",
    "        #print(valor)\n",
    "        #print(path_destination)\n",
    "        #if path_destination not in valor:\n",
    "        #    print('sdfsdfsf')\n",
    "        filtered_list = [item for item in valor if re.search(rf'\\b{word}\\b', valor, re.IGNORECASE) ]\n",
    "\n",
    "        print(filtered_list)\n",
    "        \n",
    "        #else:\n",
    "        #    print('dasdasdasdasdasda')\n",
    "\n",
    "\n",
    "    else:\n",
    "        print('destination' ,data['properties']['parameters']['tables']['defaultValue']['destination'])\n"
   ]
  },
  {
   "cell_type": "code",
   "execution_count": 81,
   "metadata": {},
   "outputs": [
    {
     "name": "stdout",
     "output_type": "stream",
     "text": [
      "path_destination: oni/base_unica_cnpjs/cnpjs_rfb_rais_dw\n",
      "All values in 'defaultValue': {'source_1': '/oni/base_unica_cnpjs/cnpjs_rfb_rais', 'path_destination': 'oni/base_unica_cnpjs/cnpjs_rfb_rais_dw', 'destination': '/oni/base_unica_cnpjs/cnpjs_rfb_rais_dw', 'databricks': {'notebook': '/biz/oni/base_unica_cnpjs/trs_biz_cnpjs_rfb_rais_dw'}}\n",
      "Filtered list excluding specific word: ['/oni/base_unica_cnpjs/cnpjs_rfb_rais', {'notebook': '/biz/oni/base_unica_cnpjs/trs_biz_cnpjs_rfb_rais_dw'}]\n"
     ]
    }
   ],
   "source": [
    "import json\n",
    "import re\n",
    "\n",
    "# Path to the JSON file\n",
    "file_path = r'C:\\Users\\PC\\Desktop\\mapeamento_adf\\pipeline\\pipeline\\trs_biz_cnpjs_rfb_rais_dw.json'\n",
    "\n",
    "# Reading the JSON file\n",
    "with open(file_path, 'r') as file:\n",
    "    data = json.load(file)\n",
    "    path_destination = data.get('properties', {}).get('parameters', {}).get('tables', {}).get('defaultValue', {}).get('path_destination')\n",
    "    print(\"path_destination:\", path_destination)\n",
    "    \n",
    "    if path_destination:\n",
    "        data_dict_values = data['properties']['parameters']['tables']['defaultValue']\n",
    "        print(\"All values in 'defaultValue':\", data_dict_values)\n",
    "\n",
    "        # Suppose 'word' is the term you want to exclude\n",
    "        word = path_destination\n",
    "\n",
    "        # Use a list comprehension with a condition to filter items\n",
    "        filtered_list = [item for item in data_dict_values.values() if not re.search(rf'\\b{word}\\b', str(item), re.IGNORECASE)]\n",
    "        print(\"Filtered list excluding specific word:\", filtered_list)\n",
    "    else:\n",
    "        print(\"destination:\", data.get('properties', {}).get('parameters', {}).get('tables', {}).get('defaultValue', {}).get('destination'))\n"
   ]
  },
  {
   "cell_type": "code",
   "execution_count": 84,
   "metadata": {},
   "outputs": [
    {
     "name": "stdout",
     "output_type": "stream",
     "text": [
      "oni/base_unica_cnpjs/cnpjs_rfb_rais_dw\n",
      "path_destination oni/base_unica_cnpjs/cnpjs_rfb_rais_dw\n",
      "defaultValue {'source_1': '/oni/base_unica_cnpjs/cnpjs_rfb_rais', 'path_destination': 'oni/base_unica_cnpjs/cnpjs_rfb_rais_dw', 'destination': '/oni/base_unica_cnpjs/cnpjs_rfb_rais_dw', 'databricks': {'notebook': '/biz/oni/base_unica_cnpjs/trs_biz_cnpjs_rfb_rais_dw'}}\n",
      "Filtered list excluding specific word: ['/oni/base_unica_cnpjs/cnpjs_rfb_rais', {'notebook': '/biz/oni/base_unica_cnpjs/trs_biz_cnpjs_rfb_rais_dw'}]\n"
     ]
    }
   ],
   "source": [
    "import json\n",
    "\n",
    "# Path to the JSON file\n",
    "file_path = r'C:\\Users\\PC\\Desktop\\mapeamento_adf\\pipeline\\pipeline\\trs_biz_cnpjs_rfb_rais_dw.json'\n",
    "\n",
    "# Reading the JSON file\n",
    "with open(file_path, 'r') as file:\n",
    "    data = json.load(file)\n",
    "    path_destination = data.get('properties', {}).get('parameters', {}).get('tables', {}).get('defaultValue', {}).get('path_destination')\n",
    "    print(path_destination)\n",
    "    # dictionary.get(key, default=None)\n",
    "    #print(data.get('properties', {}).get('parameters', {}))\n",
    "    if path_destination:\n",
    "        # if every single one exists data.get('properties', {}).get('parameters', {}).get('tables', {}).get('defaultValue', {}).get('path_destination')\n",
    "        print('path_destination' , data['properties']['parameters']['tables']['defaultValue']['path_destination'])\n",
    "        print('defaultValue' , data['properties']['parameters']['tables']['defaultValue'])\n",
    "        data_dict_values = data['properties']['parameters']['tables']['defaultValue']    \n",
    "        #for value in data_dict_values.values():\n",
    "        #    print('VALUES',value)\n",
    "        #valor = [value for value in data_dict_values.values()]\n",
    "        #print(valor)\n",
    "        #print(path_destination)\n",
    "        #if path_destination not in valor:\n",
    "        #    print('sdfsdfsf')\n",
    "\n",
    "        # Use a list comprehension with a condition to filter items\n",
    "        filtered_list = [item for item in data_dict_values.values() if not re.search(rf'\\b{path_destination}\\b', str(item), re.IGNORECASE)]\n",
    "        print(\"Filtered list excluding specific word:\", filtered_list)\n",
    "    else:\n",
    "        print(\"destination:\", data.get('properties', {}).get('parameters', {}).get('tables', {}).get('defaultValue', {}).get('destination'))\n"
   ]
  },
  {
   "cell_type": "code",
   "execution_count": null,
   "metadata": {},
   "outputs": [],
   "source": []
  },
  {
   "cell_type": "code",
   "execution_count": 60,
   "metadata": {},
   "outputs": [
    {
     "name": "stdout",
     "output_type": "stream",
     "text": [
      "trs_biz_base_regime_tributario.json\n",
      "trs_biz_base_unificada_cnpjs.json\n",
      "trs_biz_cnpjs_rfb_rais_dw.json\n",
      "trs_biz_fta_rais_estab.json\n",
      "trs_biz_fta_rais_estabelecimentos.json\n",
      "trs_biz_fta_rais_trabalhadores.json\n",
      "trs_biz_mulheres_caged.json\n",
      "trs_biz_mulheres_rais_trabalhadores.json\n",
      "trs_biz_rais_estab_pub.json\n",
      "trs_biz_rais_vinculo_publica.json\n"
     ]
    }
   ],
   "source": [
    "import os\n",
    "import json\n",
    "import re\n",
    "# Path to the folder\n",
    "\n",
    "folder_path = r'C:\\Users\\PC\\Desktop\\mapeamento_adf\\pipeline\\pipeline'\n",
    "\n",
    "# List all files in the folder\n",
    "files = os.listdir(folder_path)\n",
    "# ['biz_biz_analitico_ep.json', 'biz_biz_base_unimercado_ep.json', 'biz_biz_base_unimercado_ssi.json', 'biz_biz_base_unimercado_sti.json', ...\n",
    "\n",
    "for file_name in files:\n",
    "    # biz_biz_analitico_ep.json\n",
    "    # biz_biz_base_unimercado_ep.json\n",
    "    # biz_biz_base_unimercado_ssi.json\n",
    "    # biz_biz_base_unimercado_sti.json\n",
    "    # biz_biz_calcula_coluna.json\n",
    "\n",
    "\n",
    "    file_path = os.path.join(folder_path, file_name)\n",
    "    # 'C:\\Users\\PC\\Desktop\\mapeamento_adf\\pipeline\\pipeline' + ['biz_biz_analitico_ep.json', 'biz_biz_base_unimercado_ep.json', 'biz_biz_base_unimercado_ssi.json', 'biz_biz_base_unimercado_sti.json', ...\n",
    "    with open(file_path, 'r') as file:\n",
    "        data = json.load(file)\n",
    "\n",
    "        # Now 'data' contains the JSON data as a Python dictionary\n",
    "        # Convert the JSON object to a text string\n",
    "        json_string = json.dumps(data, indent=2)\n",
    "        word = 'rais'\n",
    "        layer = 'trs_biz'\n",
    "        if word in json_string:\n",
    "            # if re.search(rf'\\b{word}\\b', json_string, re.IGNORECASE) and not file_name.startswith('wkf') and file_name.startswith(layer):\n",
    "            if word in json_string and file_name.startswith('trs_biz') and not file_name.startswith('wkf'): \n",
    "                #>> it doesn't work, cause the expression 'if word in json_string' ain't looking for the 'word in the specific sequence'\n",
    "                #print(file_name)\n",
    "                with open(file_path, 'r') as file:\n",
    "                    data = json.load(file)\n",
    "                    print(data)\n",
    "                    path_destination = data.get('properties', {}).get('parameters', {}).get('tables', {}).get('defaultValue', {}).get('path_destination')\n",
    "                    # dictionary.get(key, default=None)\n",
    "                    #print(data.get('properties', {}).get('parameters', {}))\n",
    "                    if path_destination:\n",
    "                        # if every single one exists data.get('properties', {}).get('parameters', {}).get('tables', {}).get('defaultValue', {}).get('path_destination')\n",
    "                        print('path_destination' , data['properties']['parameters']['tables']['defaultValue']['path_destination'])\n",
    "                        print('defaultValue' , data['properties']['parameters']['tables']['defaultValue'])\n",
    "                        value = data['properties']['parameters']['tables']['defaultValue']    \n",
    "                        for value in data.values():\n",
    "                            print('VALUES',value)\n",
    "\n",
    "\n",
    "                    else:\n",
    "                        print('destination' ,data['properties']['parameters']['tables']['defaultValue']['destination'])\n",
    "\n",
    "                        #print('destination')\n",
    "\n",
    "                    # elif data['properties']['parameters']:\n",
    "                    #     print(data['properties']['parameters']) \n",
    "                    # elif data['properties']:\n",
    "                    #     print(data['properties'])\n",
    "                    # else:\n",
    "                    #     print(file_name)                            \n",
    "                    #print(data)\n",
    "                    #print('destination', data['properties']['parameters']['tables']['defaultValue']['path_destination'])\n",
    "                    #print('databricks', data['properties']['parameters']['tables']['defaultValue']['databricks'])\n",
    "\n",
    "                    # Now 'data' contains the JSON data as a Python dictionary\n",
    "                    #for key, value in data['properties']['parameters']['tables']['defaultValue'].items():\n",
    "                            #print(value)\n",
    "                    #x = [value for key, value in data['properties']['parameters']['tables']['defaultValue'].items()]\n",
    "                    #print(x[0:-3])\n",
    "        else:\n",
    "            pass"
   ]
  },
  {
   "cell_type": "code",
   "execution_count": 59,
   "metadata": {},
   "outputs": [],
   "source": [
    "import os\n",
    "import json\n",
    "import re\n",
    "# Path to the folder\n",
    "\n",
    "file_path = r'C:\\Users\\PC\\Desktop\\mapeamento_adf\\pipeline\\pipeline\\trs_biz_cnpjs_rfb_rais_dw.json'\n",
    "with open(file_path, 'r') as file:\n",
    "    data = json.load(file)\n",
    "    json_string = json.dumps(data, indent=2)\n",
    "    word = 'rais'\n",
    "    layer = 'trs_biz'\n",
    "    if word in json_string:\n",
    "        # if re.search(rf'\\b{word}\\b', json_string, re.IGNORECASE) and not file_name.startswith('wkf') and file_name.startswith(layer):\n",
    "        if word in json_string and file_name.startswith('trs_biz') and not file_name.startswith('wkf'): \n",
    "            print(word)"
   ]
  },
  {
   "cell_type": "code",
   "execution_count": 90,
   "metadata": {},
   "outputs": [
    {
     "name": "stdout",
     "output_type": "stream",
     "text": [
      "{'name': 'trs_biz_base_regime_tributario', 'properties': {'activities': [{'name': 'business__0__switch_env', 'type': 'ExecutePipeline', 'dependsOn': [], 'userProperties': [], 'typeProperties': {'pipeline': {'referenceName': 'business__0__switch_env', 'type': 'PipelineReference'}, 'waitOnCompletion': True, 'parameters': {'env': {'value': '@pipeline().parameters.env', 'type': 'Expression'}, 'table': {'value': '@pipeline().parameters.tables', 'type': 'Expression'}, 'adf': {'value': '@json(concat(\\'{\"adf_factory_name\": \"\\', pipeline().DataFactory, \\'\", \"adf_pipeline_name\": \"\\', pipeline().Pipeline, \\'\", \"adf_pipeline_run_id\": \"\\', pipeline().RunId, \\'\",  \"adf_trigger_id\": \"\\', pipeline().TriggerId, \\'\", \"adf_trigger_name\": \"\\', pipeline().TriggerName, \\'\", \"adf_trigger_time\": \"\\', pipeline().TriggerTime, \\'\",  \"adf_trigger_type\": \"\\', pipeline().TriggerType, \\'\"}\\'))', 'type': 'Expression'}, 'user_parameters': {'value': '@pipeline().parameters.user_parameters', 'type': 'Expression'}, 'sqldw_copy': {'value': '@pipeline().parameters.sqldw_copy', 'type': 'Expression'}, 'sqldw_grant': {'value': '@pipeline().parameters.sqldw_grant', 'type': 'Expression'}}}}, {'name': 'alerta_falha', 'type': 'ExecutePipeline', 'dependsOn': [{'activity': 'business__0__switch_env', 'dependencyConditions': ['Failed']}], 'userProperties': [], 'typeProperties': {'pipeline': {'referenceName': 'send_email', 'type': 'PipelineReference'}, 'waitOnCompletion': True, 'parameters': {'email_users': {'value': \"@array('monitoramento_observatorio@cni.com.br')\", 'type': 'Expression'}, 'email_groups': {'value': \"@array('')\", 'type': 'Expression'}, 'adf': {'value': '@json(concat(\\'{\"adf_factory_name\": \"\\', pipeline().DataFactory, \\'\", \"adf_pipeline_name\": \"\\', pipeline().Pipeline, \\'\", \"adf_pipeline_run_id\": \"\\', pipeline().RunId, \\'\",  \"adf_trigger_id\": \"\\', pipeline().TriggerId, \\'\", \"adf_trigger_name\": \"\\', pipeline().TriggerName, \\'\", \"adf_trigger_time\": \"\\', pipeline().TriggerTime, \\'\",  \"adf_trigger_type\": \"\\', pipeline().TriggerType, \\'\"}\\'))', 'type': 'Expression'}, 'env': {'value': '@pipeline().parameters.env', 'type': 'Expression'}}}}, {'name': 'Fail1', 'type': 'Fail', 'dependsOn': [{'activity': 'alerta_falha', 'dependencyConditions': ['Succeeded']}], 'userProperties': [], 'typeProperties': {'message': 'Falha', 'errorCode': '500'}}], 'parameters': {'tables': {'type': 'object', 'defaultValue': {'regime_tributario': '/rfb_cnpj/regime_tributario_f', 'cadastro_socio_f': '/rfb_cnpj/cadastro_socio_f', 'qualif_socio': '/rfb_cnpj/tabelas_auxiliares_f/qualif_socio', 'unificada_cnpjs': '/oni/base_unica_cnpjs/cnpjs_rfb_rais', 'rfb_siafi': '/oni/governo_federal/orcamento_da_uniao/rfb/siafi', 'municipios': '/oni/bases_referencia/municipios', 'path_destination': 'oni/base_unica_cnpjs/regime_tributario', 'destination': '/oni/base_unica_cnpjs/regime_tributario', 'databricks': {'notebook': '/biz/oni/base_unica_cnpjs/trs_biz_base_regime_tributario'}}}, 'user_parameters': {'type': 'object', 'defaultValue': {'null': 'null'}}, 'env': {'type': 'object', 'defaultValue': {'env': 'dev'}}, 'sqldw_copy': {'type': 'bool'}, 'sqldw_grant': {'type': 'string'}}, 'folder': {'name': 'biz/oni/base_unica_cnpjs'}, 'annotations': []}}\n",
      "path_destination oni/base_unica_cnpjs/regime_tributario\n",
      "defaultValue {'regime_tributario': '/rfb_cnpj/regime_tributario_f', 'cadastro_socio_f': '/rfb_cnpj/cadastro_socio_f', 'qualif_socio': '/rfb_cnpj/tabelas_auxiliares_f/qualif_socio', 'unificada_cnpjs': '/oni/base_unica_cnpjs/cnpjs_rfb_rais', 'rfb_siafi': '/oni/governo_federal/orcamento_da_uniao/rfb/siafi', 'municipios': '/oni/bases_referencia/municipios', 'path_destination': 'oni/base_unica_cnpjs/regime_tributario', 'destination': '/oni/base_unica_cnpjs/regime_tributario', 'databricks': {'notebook': '/biz/oni/base_unica_cnpjs/trs_biz_base_regime_tributario'}}\n",
      "Filtered list excluding specific word: ['/rfb_cnpj/regime_tributario_f', '/rfb_cnpj/cadastro_socio_f', '/rfb_cnpj/tabelas_auxiliares_f/qualif_socio', '/oni/base_unica_cnpjs/cnpjs_rfb_rais', '/oni/governo_federal/orcamento_da_uniao/rfb/siafi', '/oni/bases_referencia/municipios']\n",
      "{'name': 'trs_biz_base_unificada_cnpjs', 'properties': {'activities': [{'name': 'business__0__switch_env', 'type': 'ExecutePipeline', 'dependsOn': [], 'userProperties': [], 'typeProperties': {'pipeline': {'referenceName': 'business__0__switch_env', 'type': 'PipelineReference'}, 'waitOnCompletion': True, 'parameters': {'env': {'value': '@pipeline().parameters.env', 'type': 'Expression'}, 'table': {'value': '@pipeline().parameters.tables', 'type': 'Expression'}, 'adf': {'value': '@json(concat(\\'{\"adf_factory_name\": \"\\', pipeline().DataFactory, \\'\", \"adf_pipeline_name\": \"\\', pipeline().Pipeline, \\'\", \"adf_pipeline_run_id\": \"\\', pipeline().RunId, \\'\",  \"adf_trigger_id\": \"\\', pipeline().TriggerId, \\'\", \"adf_trigger_name\": \"\\', pipeline().TriggerName, \\'\", \"adf_trigger_time\": \"\\', pipeline().TriggerTime, \\'\",  \"adf_trigger_type\": \"\\', pipeline().TriggerType, \\'\"}\\'))', 'type': 'Expression'}, 'user_parameters': {'value': '@pipeline().parameters.user_parameters', 'type': 'Expression'}, 'sqldw_copy': {'value': '@pipeline().parameters.sqldw_copy', 'type': 'Expression'}, 'sqldw_grant': {'value': '@pipeline().parameters.sqldw_grant', 'type': 'Expression'}}}}, {'name': 'alerta_falha', 'type': 'ExecutePipeline', 'dependsOn': [{'activity': 'business__0__switch_env', 'dependencyConditions': ['Failed']}], 'userProperties': [], 'typeProperties': {'pipeline': {'referenceName': 'send_email', 'type': 'PipelineReference'}, 'waitOnCompletion': True, 'parameters': {'email_users': {'value': \"@array('monitoramento_observatorio@cni.com.br')\", 'type': 'Expression'}, 'email_groups': {'value': \"@array('')\", 'type': 'Expression'}, 'adf': {'value': '@json(concat(\\'{\"adf_factory_name\": \"\\', pipeline().DataFactory, \\'\", \"adf_pipeline_name\": \"\\', pipeline().Pipeline, \\'\", \"adf_pipeline_run_id\": \"\\', pipeline().RunId, \\'\",  \"adf_trigger_id\": \"\\', pipeline().TriggerId, \\'\", \"adf_trigger_name\": \"\\', pipeline().TriggerName, \\'\", \"adf_trigger_time\": \"\\', pipeline().TriggerTime, \\'\",  \"adf_trigger_type\": \"\\', pipeline().TriggerType, \\'\"}\\'))', 'type': 'Expression'}, 'env': {'value': '@pipeline().parameters.env', 'type': 'Expression'}}}}, {'name': 'Fail1', 'type': 'Fail', 'dependsOn': [{'activity': 'alerta_falha', 'dependencyConditions': ['Succeeded']}], 'userProperties': [], 'typeProperties': {'message': 'Falha', 'errorCode': '500'}}], 'parameters': {'tables': {'type': 'object', 'defaultValue': {'copy_sqldw': 'false', 'cadastro_estbl_f': 'rfb_cnpj/cadastro_estbl_f', 'cadastro_empresa_f': 'rfb_cnpj/cadastro_empresa_f', 'cadastro_simples_f': 'rfb_cnpj/cadastro_simples_f', 'rais_estab': 'me/rais_estabelecimento', 'rais_vinc': 'me/rais_vinculo', 'trs_ipca_path': 'ibge/ipca', 'uds_siafi_path': 'oni/governo_federal/orcamento_da_uniao/rfb/siafi', 'exportadoras': 'oni/mdic/comex/emp_bras_exp_imp/exportadoras', 'importadoras': 'oni/mdic/comex/emp_bras_exp_imp/importadoras', 'class_inten_tec': 'oni/ocde/ativ_econ/int_tec/class_inten_tec', 'cnaes_contrib': 'oni/observatorio_nacional/cnae/ger_arrec_fin/cnaes_contrib', 'cnae_ncm': 'oni/ibge/ativ_econ/class_produto/cnae_ncm', 'cnae_isic': 'oni/ibge/ativ_econ/class_internacionais/cnae_isic', 'nat_juridica': 'rfb_cnpj/tabelas_auxiliares_f/nat_juridica/', 'path_destination': 'oni/base_unica_cnpjs/cnpjs_rfb_rais', 'destination': '/oni/base_unica_cnpjs/cnpjs_rfb_rais', 'databricks': {'notebook': '/biz/oni/base_unica_cnpjs/trs_biz_base_unificada_cnpjs'}}}, 'user_parameters': {'type': 'object', 'defaultValue': {'null': 'null'}}, 'env': {'type': 'object', 'defaultValue': {'env': 'dev'}}, 'sqldw_copy': {'type': 'bool', 'defaultValue': False}, 'sqldw_grant': {'type': 'string'}}, 'folder': {'name': 'biz/oni/base_unica_cnpjs'}, 'annotations': []}}\n",
      "path_destination oni/base_unica_cnpjs/cnpjs_rfb_rais\n",
      "defaultValue {'copy_sqldw': 'false', 'cadastro_estbl_f': 'rfb_cnpj/cadastro_estbl_f', 'cadastro_empresa_f': 'rfb_cnpj/cadastro_empresa_f', 'cadastro_simples_f': 'rfb_cnpj/cadastro_simples_f', 'rais_estab': 'me/rais_estabelecimento', 'rais_vinc': 'me/rais_vinculo', 'trs_ipca_path': 'ibge/ipca', 'uds_siafi_path': 'oni/governo_federal/orcamento_da_uniao/rfb/siafi', 'exportadoras': 'oni/mdic/comex/emp_bras_exp_imp/exportadoras', 'importadoras': 'oni/mdic/comex/emp_bras_exp_imp/importadoras', 'class_inten_tec': 'oni/ocde/ativ_econ/int_tec/class_inten_tec', 'cnaes_contrib': 'oni/observatorio_nacional/cnae/ger_arrec_fin/cnaes_contrib', 'cnae_ncm': 'oni/ibge/ativ_econ/class_produto/cnae_ncm', 'cnae_isic': 'oni/ibge/ativ_econ/class_internacionais/cnae_isic', 'nat_juridica': 'rfb_cnpj/tabelas_auxiliares_f/nat_juridica/', 'path_destination': 'oni/base_unica_cnpjs/cnpjs_rfb_rais', 'destination': '/oni/base_unica_cnpjs/cnpjs_rfb_rais', 'databricks': {'notebook': '/biz/oni/base_unica_cnpjs/trs_biz_base_unificada_cnpjs'}}\n",
      "Filtered list excluding specific word: ['false', 'rfb_cnpj/cadastro_estbl_f', 'rfb_cnpj/cadastro_empresa_f', 'rfb_cnpj/cadastro_simples_f', 'me/rais_estabelecimento', 'me/rais_vinculo', 'ibge/ipca', 'oni/governo_federal/orcamento_da_uniao/rfb/siafi', 'oni/mdic/comex/emp_bras_exp_imp/exportadoras', 'oni/mdic/comex/emp_bras_exp_imp/importadoras', 'oni/ocde/ativ_econ/int_tec/class_inten_tec', 'oni/observatorio_nacional/cnae/ger_arrec_fin/cnaes_contrib', 'oni/ibge/ativ_econ/class_produto/cnae_ncm', 'oni/ibge/ativ_econ/class_internacionais/cnae_isic', 'rfb_cnpj/tabelas_auxiliares_f/nat_juridica/']\n",
      "{'name': 'trs_biz_cnpjs_rfb_rais_dw', 'properties': {'activities': [{'name': 'business__0__switch_env', 'type': 'ExecutePipeline', 'dependsOn': [], 'userProperties': [], 'typeProperties': {'pipeline': {'referenceName': 'business__0__switch_env', 'type': 'PipelineReference'}, 'waitOnCompletion': True, 'parameters': {'env': {'value': '@pipeline().parameters.env', 'type': 'Expression'}, 'table': {'value': '@pipeline().parameters.tables', 'type': 'Expression'}, 'adf': {'value': '@json(concat(\\'{\"adf_factory_name\": \"\\', pipeline().DataFactory, \\'\", \"adf_pipeline_name\": \"\\', pipeline().Pipeline, \\'\", \"adf_pipeline_run_id\": \"\\', pipeline().RunId, \\'\",  \"adf_trigger_id\": \"\\', pipeline().TriggerId, \\'\", \"adf_trigger_name\": \"\\', pipeline().TriggerName, \\'\", \"adf_trigger_time\": \"\\', pipeline().TriggerTime, \\'\",  \"adf_trigger_type\": \"\\', pipeline().TriggerType, \\'\"}\\'))', 'type': 'Expression'}, 'user_parameters': {'value': '@pipeline().parameters.user_parameters', 'type': 'Expression'}, 'sqldw_copy': {'value': '@pipeline().parameters.sqldw_copy', 'type': 'Expression'}, 'sqldw_grant': {'value': '@pipeline().parameters.sqldw_grant', 'type': 'Expression'}}}}, {'name': 'alerta_falha', 'type': 'ExecutePipeline', 'dependsOn': [{'activity': 'business__0__switch_env', 'dependencyConditions': ['Failed']}], 'userProperties': [], 'typeProperties': {'pipeline': {'referenceName': 'send_email', 'type': 'PipelineReference'}, 'waitOnCompletion': True, 'parameters': {'email_users': {'value': \"@array('monitoramento_observatorio@cni.com.br')\", 'type': 'Expression'}, 'email_groups': {'value': \"@array('')\", 'type': 'Expression'}, 'adf': {'value': '@json(concat(\\'{\"adf_factory_name\": \"\\', pipeline().DataFactory, \\'\", \"adf_pipeline_name\": \"\\', pipeline().Pipeline, \\'\", \"adf_pipeline_run_id\": \"\\', pipeline().RunId, \\'\",  \"adf_trigger_id\": \"\\', pipeline().TriggerId, \\'\", \"adf_trigger_name\": \"\\', pipeline().TriggerName, \\'\", \"adf_trigger_time\": \"\\', pipeline().TriggerTime, \\'\",  \"adf_trigger_type\": \"\\', pipeline().TriggerType, \\'\"}\\'))', 'type': 'Expression'}, 'env': {'value': '@pipeline().parameters.env', 'type': 'Expression'}}}}, {'name': 'Fail1', 'type': 'Fail', 'dependsOn': [{'activity': 'alerta_falha', 'dependencyConditions': ['Succeeded']}], 'userProperties': [], 'typeProperties': {'message': 'Falha', 'errorCode': '500'}}], 'parameters': {'tables': {'type': 'object', 'defaultValue': {'source_1': '/oni/base_unica_cnpjs/cnpjs_rfb_rais', 'path_destination': 'oni/base_unica_cnpjs/cnpjs_rfb_rais_dw', 'destination': '/oni/base_unica_cnpjs/cnpjs_rfb_rais_dw', 'databricks': {'notebook': '/biz/oni/base_unica_cnpjs/trs_biz_cnpjs_rfb_rais_dw'}}}, 'user_parameters': {'type': 'object', 'defaultValue': {'null': 'null'}}, 'env': {'type': 'object', 'defaultValue': {'env': 'dev'}}, 'sqldw_copy': {'type': 'bool'}, 'sqldw_grant': {'type': 'string'}}, 'folder': {'name': 'biz/oni/base_unica_cnpjs'}, 'annotations': []}}\n",
      "path_destination oni/base_unica_cnpjs/cnpjs_rfb_rais_dw\n",
      "defaultValue {'source_1': '/oni/base_unica_cnpjs/cnpjs_rfb_rais', 'path_destination': 'oni/base_unica_cnpjs/cnpjs_rfb_rais_dw', 'destination': '/oni/base_unica_cnpjs/cnpjs_rfb_rais_dw', 'databricks': {'notebook': '/biz/oni/base_unica_cnpjs/trs_biz_cnpjs_rfb_rais_dw'}}\n",
      "Filtered list excluding specific word: ['/oni/base_unica_cnpjs/cnpjs_rfb_rais']\n",
      "{'name': 'trs_biz_fta_rais_estab', 'properties': {'activities': [{'name': 'business__0__switch_env', 'description': 'Calls business template \"template_business\".', 'type': 'ExecutePipeline', 'dependsOn': [], 'userProperties': [], 'typeProperties': {'pipeline': {'referenceName': 'business__0__switch_env', 'type': 'PipelineReference'}, 'waitOnCompletion': True, 'parameters': {'env': {'value': '@pipeline().parameters.env', 'type': 'Expression'}, 'table': {'value': '@pipeline().parameters.tables', 'type': 'Expression'}, 'adf': {'value': '@json(concat(\\'{\"adf_factory_name\": \"\\', pipeline().DataFactory, \\'\", \"adf_pipeline_name\": \"\\', pipeline().Pipeline, \\'\", \"adf_pipeline_run_id\": \"\\', pipeline().RunId, \\'\",  \"adf_trigger_id\": \"\\', pipeline().TriggerId, \\'\", \"adf_trigger_name\": \"\\', pipeline().TriggerName, \\'\", \"adf_trigger_time\": \"\\', pipeline().TriggerTime, \\'\",  \"adf_trigger_type\": \"\\', pipeline().TriggerType, \\'\"}\\'))', 'type': 'Expression'}, 'user_parameters': {'value': '@pipeline().parameters.user_parameters', 'type': 'Expression'}, 'sqldw_copy': {'value': '@pipeline().parameters.sqldw_copy', 'type': 'Expression'}, 'sqldw_grant': {'value': '@pipeline().parameters.sqldw_grant', 'type': 'Expression'}}}}], 'parameters': {'tables': {'type': 'object', 'defaultValue': {'origin': 'me/rais_estabelecimento', 'destination': '/oni/painel_metal_mecanica/fta_rais_estab', 'databricks': {'notebook': '/biz/oni/painel_metal_mecanica/trs_biz_fta_rais_estab'}}}, 'user_parameters': {'type': 'object', 'defaultValue': {'null': 'null'}}, 'env': {'type': 'object', 'defaultValue': {'env': 'dev'}}, 'sqldw_copy': {'type': 'bool'}, 'sqldw_grant': {'type': 'string'}}, 'folder': {'name': 'biz/oni/painel_metal_mecanica'}, 'annotations': []}}\n",
      "Filtered list excluding specific wordFiltered list excluding specific wordFiltered list excluding specific word: ['me/rais_estabelecimento', '/oni/painel_metal_mecanica/fta_rais_estab']\n",
      "{'name': 'trs_biz_fta_rais_estabelecimentos', 'properties': {'description': 'Fato de Dados da RAIS Estabelecimentos', 'activities': [{'name': 'business__0__switch_env', 'description': 'Calls business template \"template_business\".', 'type': 'ExecutePipeline', 'dependsOn': [], 'userProperties': [], 'typeProperties': {'pipeline': {'referenceName': 'business__0__switch_env', 'type': 'PipelineReference'}, 'waitOnCompletion': True, 'parameters': {'env': {'value': '@pipeline().parameters.env', 'type': 'Expression'}, 'table': {'value': '@pipeline().parameters.tables', 'type': 'Expression'}, 'adf': {'value': '@json(concat(\\'{\"adf_factory_name\": \"\\', pipeline().DataFactory, \\'\", \"adf_pipeline_name\": \"\\', pipeline().Pipeline, \\'\", \"adf_pipeline_run_id\": \"\\', pipeline().RunId, \\'\",  \"adf_trigger_id\": \"\\', pipeline().TriggerId, \\'\", \"adf_trigger_name\": \"\\', pipeline().TriggerName, \\'\", \"adf_trigger_time\": \"\\', pipeline().TriggerTime, \\'\",  \"adf_trigger_type\": \"\\', pipeline().TriggerType, \\'\"}\\'))', 'type': 'Expression'}, 'user_parameters': {'value': '@pipeline().parameters.user_parameters', 'type': 'Expression'}, 'sqldw_copy': {'value': '@pipeline().parameters.sqldw_copy', 'type': 'Expression'}, 'sqldw_grant': {'value': '@pipeline().parameters.sqldw_grant', 'type': 'Expression'}}}}], 'parameters': {'tables': {'type': 'object', 'defaultValue': {'path_contribuintes': 'oni/bases_do_projeto/painel_dos_estados/contribuintes/', 'path_tam_estabelecimento': 'oni/bases_do_projeto/painel_dos_estados/tam_estabelecimento/', 'path_grau_instrucao': 'oni/bases_do_projeto/painel_dos_estados/grau_instrucao_rais', 'path_rais_vinculo': 'me/rais_vinculo/', 'path_cadastro_cbo': 'me/cadastro_cbo/', 'path_am_legal': 'oni/bases_referencia/uf/', 'path_cnae_rais': 'oni/bases_referencia/cnae_20/cnae_divisao', 'path_ipca': 'crw/ibge/ipca', 'path_destination': 'oni/painel_dos_estados/rais_estabelecimentos', 'year_initial_date': 2007, 'min_salary_range': 300, 'max_salary_range': 30000, 'destination': '/oni/painel_dos_estados/rais_estabelecimentos', 'databricks': {'notebook': '/biz/oni/painel_dos_estados/trs_biz_rais_estabelecimentos'}}}, 'user_parameters': {'type': 'object', 'defaultValue': {'null': 'null'}}, 'env': {'type': 'object', 'defaultValue': {'env': 'dev'}}, 'sqldw_copy': {'type': 'bool', 'defaultValue': False}, 'sqldw_grant': {'type': 'string'}}, 'folder': {'name': 'biz/oni/painel_dos_estados'}, 'annotations': []}}\n",
      "path_destination oni/painel_dos_estados/rais_estabelecimentos\n",
      "defaultValue {'path_contribuintes': 'oni/bases_do_projeto/painel_dos_estados/contribuintes/', 'path_tam_estabelecimento': 'oni/bases_do_projeto/painel_dos_estados/tam_estabelecimento/', 'path_grau_instrucao': 'oni/bases_do_projeto/painel_dos_estados/grau_instrucao_rais', 'path_rais_vinculo': 'me/rais_vinculo/', 'path_cadastro_cbo': 'me/cadastro_cbo/', 'path_am_legal': 'oni/bases_referencia/uf/', 'path_cnae_rais': 'oni/bases_referencia/cnae_20/cnae_divisao', 'path_ipca': 'crw/ibge/ipca', 'path_destination': 'oni/painel_dos_estados/rais_estabelecimentos', 'year_initial_date': 2007, 'min_salary_range': 300, 'max_salary_range': 30000, 'destination': '/oni/painel_dos_estados/rais_estabelecimentos', 'databricks': {'notebook': '/biz/oni/painel_dos_estados/trs_biz_rais_estabelecimentos'}}\n",
      "Filtered list excluding specific word: ['oni/bases_do_projeto/painel_dos_estados/contribuintes/', 'oni/bases_do_projeto/painel_dos_estados/tam_estabelecimento/', 'oni/bases_do_projeto/painel_dos_estados/grau_instrucao_rais', 'me/rais_vinculo/', 'me/cadastro_cbo/', 'oni/bases_referencia/uf/', 'oni/bases_referencia/cnae_20/cnae_divisao', 'crw/ibge/ipca', 2007, 300, 30000]\n",
      "{'name': 'trs_biz_fta_rais_trabalhadores', 'properties': {'description': 'Fato de Dados da RAIS Trabalhadores', 'activities': [{'name': 'business__0__switch_env', 'description': 'Calls business template \"template_business\".', 'type': 'ExecutePipeline', 'dependsOn': [], 'userProperties': [], 'typeProperties': {'pipeline': {'referenceName': 'business__0__switch_env', 'type': 'PipelineReference'}, 'waitOnCompletion': True, 'parameters': {'env': {'value': '@pipeline().parameters.env', 'type': 'Expression'}, 'table': {'value': '@pipeline().parameters.tables', 'type': 'Expression'}, 'adf': {'value': '@json(concat(\\'{\"adf_factory_name\": \"\\', pipeline().DataFactory, \\'\", \"adf_pipeline_name\": \"\\', pipeline().Pipeline, \\'\", \"adf_pipeline_run_id\": \"\\', pipeline().RunId, \\'\",  \"adf_trigger_id\": \"\\', pipeline().TriggerId, \\'\", \"adf_trigger_name\": \"\\', pipeline().TriggerName, \\'\", \"adf_trigger_time\": \"\\', pipeline().TriggerTime, \\'\",  \"adf_trigger_type\": \"\\', pipeline().TriggerType, \\'\"}\\'))', 'type': 'Expression'}, 'user_parameters': {'value': '@pipeline().parameters.user_parameters', 'type': 'Expression'}, 'sqldw_copy': {'value': '@pipeline().parameters.sqldw_copy', 'type': 'Expression'}, 'sqldw_grant': {'value': '@pipeline().parameters.sqldw_grant', 'type': 'Expression'}}}}], 'parameters': {'tables': {'type': 'object', 'defaultValue': {'path_contribuintes': 'oni/bases_do_projeto/painel_dos_estados/contribuintes/', 'path_instrucao': 'oni/bases_do_projeto/painel_dos_estados/grau_instrucao_rais/', 'path_tam_estabelecimento': 'oni/bases_do_projeto/painel_dos_estados/tam_estabelecimento/', 'path_rais_vinculo': 'me/rais_vinculo/', 'path_cadastro_cbo': 'me/cadastro_cbo/', 'path_municipios': 'oni/bases_referencia/municipios', 'path_raca_rais': '/oni/bases_do_projeto/painel_dos_estados/raca_rais', 'path_cnae_subclasses': 'oni/bases_referencia/cnae_20/cnae_divisao', 'path_ipca': 'crw/ibge/ipca', 'path_destination': 'oni/painel_dos_estados/rais_trabalhadores', 'year_initial_date': 2007, 'min_salary_range': 300, 'max_salary_range': 30000, 'destination': '/oni/painel_dos_estados/rais_trabalhadores', 'databricks': {'notebook': '/biz/oni/painel_dos_estados/trs_biz_rais_trabalhadores'}}}, 'user_parameters': {'type': 'object', 'defaultValue': {'null': 'null'}}, 'env': {'type': 'object', 'defaultValue': {'env': 'dev'}}, 'sqldw_copy': {'type': 'bool', 'defaultValue': False}, 'sqldw_grant': {'type': 'string'}}, 'folder': {'name': 'biz/oni/painel_dos_estados'}, 'annotations': []}}\n",
      "path_destination oni/painel_dos_estados/rais_trabalhadores\n",
      "defaultValue {'path_contribuintes': 'oni/bases_do_projeto/painel_dos_estados/contribuintes/', 'path_instrucao': 'oni/bases_do_projeto/painel_dos_estados/grau_instrucao_rais/', 'path_tam_estabelecimento': 'oni/bases_do_projeto/painel_dos_estados/tam_estabelecimento/', 'path_rais_vinculo': 'me/rais_vinculo/', 'path_cadastro_cbo': 'me/cadastro_cbo/', 'path_municipios': 'oni/bases_referencia/municipios', 'path_raca_rais': '/oni/bases_do_projeto/painel_dos_estados/raca_rais', 'path_cnae_subclasses': 'oni/bases_referencia/cnae_20/cnae_divisao', 'path_ipca': 'crw/ibge/ipca', 'path_destination': 'oni/painel_dos_estados/rais_trabalhadores', 'year_initial_date': 2007, 'min_salary_range': 300, 'max_salary_range': 30000, 'destination': '/oni/painel_dos_estados/rais_trabalhadores', 'databricks': {'notebook': '/biz/oni/painel_dos_estados/trs_biz_rais_trabalhadores'}}\n",
      "Filtered list excluding specific word: ['oni/bases_do_projeto/painel_dos_estados/contribuintes/', 'oni/bases_do_projeto/painel_dos_estados/grau_instrucao_rais/', 'oni/bases_do_projeto/painel_dos_estados/tam_estabelecimento/', 'me/rais_vinculo/', 'me/cadastro_cbo/', 'oni/bases_referencia/municipios', '/oni/bases_do_projeto/painel_dos_estados/raca_rais', 'oni/bases_referencia/cnae_20/cnae_divisao', 'crw/ibge/ipca', 2007, 300, 30000]\n",
      "{'name': 'trs_biz_mulheres_caged', 'properties': {'activities': [{'name': 'business__0__switch_env', 'description': 'Calls business template \"template_business\".', 'type': 'ExecutePipeline', 'dependsOn': [], 'policy': {'secureInput': False}, 'userProperties': [], 'typeProperties': {'pipeline': {'referenceName': 'business__0__switch_env', 'type': 'PipelineReference'}, 'waitOnCompletion': True, 'parameters': {'env': {'value': '@pipeline().parameters.env', 'type': 'Expression'}, 'table': {'value': '@pipeline().parameters.tables', 'type': 'Expression'}, 'adf': {'value': '@json(concat(\\'{\"adf_factory_name\": \"\\', pipeline().DataFactory, \\'\", \"adf_pipeline_name\": \"\\', pipeline().Pipeline, \\'\", \"adf_pipeline_run_id\": \"\\', pipeline().RunId, \\'\",  \"adf_trigger_id\": \"\\', pipeline().TriggerId, \\'\", \"adf_trigger_name\": \"\\', pipeline().TriggerName, \\'\", \"adf_trigger_time\": \"\\', pipeline().TriggerTime, \\'\",  \"adf_trigger_type\": \"\\', pipeline().TriggerType, \\'\"}\\'))', 'type': 'Expression'}, 'user_parameters': {'value': '@pipeline().parameters.user_parameters', 'type': 'Expression'}, 'sqldw_copy': {'value': '@pipeline().parameters.sqldw_copy', 'type': 'Expression'}, 'sqldw_grant': {'value': '@pipeline().parameters.sqldw_grant', 'type': 'Expression'}}}}, {'name': 'alerta_falha', 'type': 'ExecutePipeline', 'dependsOn': [{'activity': 'business__0__switch_env', 'dependencyConditions': ['Failed']}], 'policy': {'secureInput': False}, 'userProperties': [], 'typeProperties': {'pipeline': {'referenceName': 'send_email', 'type': 'PipelineReference'}, 'waitOnCompletion': True, 'parameters': {'email_users': {'value': \"@array('monitoramento_observatorio@cni.com.br')\", 'type': 'Expression'}, 'email_groups': {'value': \"@array('')\", 'type': 'Expression'}, 'adf': {'value': '@json(concat(\\'{\"adf_factory_name\": \"\\', pipeline().DataFactory, \\'\", \"adf_pipeline_name\": \"\\', pipeline().Pipeline, \\'\", \"adf_pipeline_run_id\": \"\\', pipeline().RunId, \\'\",  \"adf_trigger_id\": \"\\', pipeline().TriggerId, \\'\", \"adf_trigger_name\": \"\\', pipeline().TriggerName, \\'\", \"adf_trigger_time\": \"\\', pipeline().TriggerTime, \\'\",  \"adf_trigger_type\": \"\\', pipeline().TriggerType, \\'\"}\\'))', 'type': 'Expression'}, 'env': {'value': '@pipeline().parameters.env', 'type': 'Expression'}}}}, {'name': 'Fail1', 'type': 'Fail', 'dependsOn': [{'activity': 'alerta_falha', 'dependencyConditions': ['Succeeded']}], 'userProperties': [], 'typeProperties': {'message': 'Falha', 'errorCode': '500'}}], 'parameters': {'tables': {'type': 'object', 'defaultValue': {'copy_sqldw': 'false', 'source_trs_ipca': 'ibge/ipca/', 'source_cadastro_cbo': 'me/cadastro_cbo/', 'source_cnae_subclasses': 'oni/bases_referencia/cnae/cnae_20/cnae_subclasse/', 'source_contribuintes': 'oni/bases_do_projeto/painel_dos_estados/contribuintes/', 'source_caged_antigo': 'me/caged/', 'source_uf': 'oni/ibge/geo_uf/', 'source_novo_caged': 'me/novo_caged/', 'source_instrucao': 'oni/bases_do_projeto/painel_dos_estados/grau_instrucao_rais/', 'path_destination': 'oni/mulheres_no_mercado_de_trabalho/caged', 'destination': '/mulheres_no_mercado_de_trabalho/caged', 'databricks': {'notebook': '/biz/oni/mulheres_no_mercado_de_trabalho/trs_biz_mulheres_caged'}}}, 'user_parameters': {'type': 'object', 'defaultValue': {'null': 'null'}}, 'env': {'type': 'object', 'defaultValue': {'env': 'dev'}}, 'sqldw_copy': {'type': 'bool', 'defaultValue': False}, 'sqldw_grant': {'type': 'string'}}, 'folder': {'name': 'biz/oni/mulheres_no_mercado_de_trabalho'}, 'annotations': []}}\n",
      "path_destination oni/mulheres_no_mercado_de_trabalho/caged\n",
      "defaultValue {'copy_sqldw': 'false', 'source_trs_ipca': 'ibge/ipca/', 'source_cadastro_cbo': 'me/cadastro_cbo/', 'source_cnae_subclasses': 'oni/bases_referencia/cnae/cnae_20/cnae_subclasse/', 'source_contribuintes': 'oni/bases_do_projeto/painel_dos_estados/contribuintes/', 'source_caged_antigo': 'me/caged/', 'source_uf': 'oni/ibge/geo_uf/', 'source_novo_caged': 'me/novo_caged/', 'source_instrucao': 'oni/bases_do_projeto/painel_dos_estados/grau_instrucao_rais/', 'path_destination': 'oni/mulheres_no_mercado_de_trabalho/caged', 'destination': '/mulheres_no_mercado_de_trabalho/caged', 'databricks': {'notebook': '/biz/oni/mulheres_no_mercado_de_trabalho/trs_biz_mulheres_caged'}}\n",
      "Filtered list excluding specific word: ['false', 'ibge/ipca/', 'me/cadastro_cbo/', 'oni/bases_referencia/cnae/cnae_20/cnae_subclasse/', 'oni/bases_do_projeto/painel_dos_estados/contribuintes/', 'me/caged/', 'oni/ibge/geo_uf/', 'me/novo_caged/', 'oni/bases_do_projeto/painel_dos_estados/grau_instrucao_rais/', '/mulheres_no_mercado_de_trabalho/caged']\n",
      "{'name': 'trs_biz_mulheres_rais_trabalhadores', 'properties': {'activities': [{'name': 'business__0__switch_env', 'description': 'Calls business template \"template_business\".', 'type': 'ExecutePipeline', 'dependsOn': [], 'policy': {'secureInput': False}, 'userProperties': [], 'typeProperties': {'pipeline': {'referenceName': 'business__0__switch_env', 'type': 'PipelineReference'}, 'waitOnCompletion': True, 'parameters': {'env': {'value': '@pipeline().parameters.env', 'type': 'Expression'}, 'table': {'value': '@pipeline().parameters.tables', 'type': 'Expression'}, 'adf': {'value': '@json(concat(\\'{\"adf_factory_name\": \"\\', pipeline().DataFactory, \\'\", \"adf_pipeline_name\": \"\\', pipeline().Pipeline, \\'\", \"adf_pipeline_run_id\": \"\\', pipeline().RunId, \\'\",  \"adf_trigger_id\": \"\\', pipeline().TriggerId, \\'\", \"adf_trigger_name\": \"\\', pipeline().TriggerName, \\'\", \"adf_trigger_time\": \"\\', pipeline().TriggerTime, \\'\",  \"adf_trigger_type\": \"\\', pipeline().TriggerType, \\'\"}\\'))', 'type': 'Expression'}, 'user_parameters': {'value': '@pipeline().parameters.user_parameters', 'type': 'Expression'}, 'sqldw_copy': {'value': '@pipeline().parameters.sqldw_copy', 'type': 'Expression'}, 'sqldw_grant': {'value': '@pipeline().parameters.sqldw_grant', 'type': 'Expression'}}}}, {'name': 'alerta_falha', 'type': 'ExecutePipeline', 'dependsOn': [{'activity': 'business__0__switch_env', 'dependencyConditions': ['Failed']}], 'policy': {'secureInput': False}, 'userProperties': [], 'typeProperties': {'pipeline': {'referenceName': 'send_email', 'type': 'PipelineReference'}, 'waitOnCompletion': True, 'parameters': {'email_users': {'value': \"@array('monitoramento_observatorio@cni.com.br')\", 'type': 'Expression'}, 'email_groups': {'value': \"@array('')\", 'type': 'Expression'}, 'adf': {'value': '@json(concat(\\'{\"adf_factory_name\": \"\\', pipeline().DataFactory, \\'\", \"adf_pipeline_name\": \"\\', pipeline().Pipeline, \\'\", \"adf_pipeline_run_id\": \"\\', pipeline().RunId, \\'\",  \"adf_trigger_id\": \"\\', pipeline().TriggerId, \\'\", \"adf_trigger_name\": \"\\', pipeline().TriggerName, \\'\", \"adf_trigger_time\": \"\\', pipeline().TriggerTime, \\'\",  \"adf_trigger_type\": \"\\', pipeline().TriggerType, \\'\"}\\'))', 'type': 'Expression'}, 'env': {'value': '@pipeline().parameters.env', 'type': 'Expression'}}}}, {'name': 'Fail1', 'type': 'Fail', 'dependsOn': [{'activity': 'alerta_falha', 'dependencyConditions': ['Succeeded']}], 'userProperties': [], 'typeProperties': {'message': 'Falha', 'errorCode': '500'}}], 'parameters': {'tables': {'type': 'object', 'defaultValue': {'source_contribuintes': 'oni/bases_do_projeto/painel_dos_estados/contribuintes', 'source_instrucao': 'oni/bases_do_projeto/painel_dos_estados/grau_instrucao_rais', 'source_tam_estabelecimento': 'oni/bases_do_projeto/painel_dos_estados/tam_estabelecimento', 'source_rais_vinculo': 'me/rais_vinculo', 'source_cadastro_cbo': 'me/cadastro_cbo', 'source_cnae_subclasses': 'oni/bases_referencia/cnae/cnae_20/cnae_subclasse', 'source_ipca': 'ibge/ipca', 'path_destination': 'oni/mulheres_no_mercado_de_trabalho/rais_vinculo', 'destination': '/mulheres_no_mercado_de_trabalho/rais_vinculo', 'databricks': {'notebook': '/biz/oni/mulheres_no_mercado_de_trabalho/trs_biz_mulheres_rais_trabalhadores'}}}, 'user_parameters': {'type': 'object', 'defaultValue': {'null': 'null'}}, 'env': {'type': 'object', 'defaultValue': {'env': 'dev'}}, 'sqldw_copy': {'type': 'bool', 'defaultValue': False}, 'sqldw_grant': {'type': 'string'}}, 'folder': {'name': 'biz/oni/mulheres_no_mercado_de_trabalho'}, 'annotations': []}}\n",
      "path_destination oni/mulheres_no_mercado_de_trabalho/rais_vinculo\n",
      "defaultValue {'source_contribuintes': 'oni/bases_do_projeto/painel_dos_estados/contribuintes', 'source_instrucao': 'oni/bases_do_projeto/painel_dos_estados/grau_instrucao_rais', 'source_tam_estabelecimento': 'oni/bases_do_projeto/painel_dos_estados/tam_estabelecimento', 'source_rais_vinculo': 'me/rais_vinculo', 'source_cadastro_cbo': 'me/cadastro_cbo', 'source_cnae_subclasses': 'oni/bases_referencia/cnae/cnae_20/cnae_subclasse', 'source_ipca': 'ibge/ipca', 'path_destination': 'oni/mulheres_no_mercado_de_trabalho/rais_vinculo', 'destination': '/mulheres_no_mercado_de_trabalho/rais_vinculo', 'databricks': {'notebook': '/biz/oni/mulheres_no_mercado_de_trabalho/trs_biz_mulheres_rais_trabalhadores'}}\n",
      "Filtered list excluding specific word: ['oni/bases_do_projeto/painel_dos_estados/contribuintes', 'oni/bases_do_projeto/painel_dos_estados/grau_instrucao_rais', 'oni/bases_do_projeto/painel_dos_estados/tam_estabelecimento', 'me/rais_vinculo', 'me/cadastro_cbo', 'oni/bases_referencia/cnae/cnae_20/cnae_subclasse', 'ibge/ipca', '/mulheres_no_mercado_de_trabalho/rais_vinculo']\n",
      "{'name': 'trs_biz_rais_estab_pub', 'properties': {'activities': [{'name': 'business__0__switch_env', 'type': 'ExecutePipeline', 'dependsOn': [], 'userProperties': [], 'typeProperties': {'pipeline': {'referenceName': 'business__0__switch_env', 'type': 'PipelineReference'}, 'waitOnCompletion': True, 'parameters': {'env': {'value': '@pipeline().parameters.env', 'type': 'Expression'}, 'table': {'value': '@pipeline().parameters.tables', 'type': 'Expression'}, 'adf': {'value': '@json(concat(\\'{\"adf_factory_name\": \"\\', pipeline().DataFactory, \\'\", \"adf_pipeline_name\": \"\\', pipeline().Pipeline, \\'\", \"adf_pipeline_run_id\": \"\\', pipeline().RunId, \\'\",  \"adf_trigger_id\": \"\\', pipeline().TriggerId, \\'\", \"adf_trigger_name\": \"\\', pipeline().TriggerName, \\'\", \"adf_trigger_time\": \"\\', pipeline().TriggerTime, \\'\",  \"adf_trigger_type\": \"\\', pipeline().TriggerType, \\'\"}\\'))', 'type': 'Expression'}, 'user_parameters': {'value': '@pipeline().parameters.user_parameters', 'type': 'Expression'}, 'sqldw_copy': {'value': '@pipeline().parameters.sqldw_copy', 'type': 'Expression'}, 'sqldw_grant': {'value': '@pipeline().parameters.sqldw_grant', 'type': 'Expression'}}}}, {'name': 'alerta_falha', 'type': 'ExecutePipeline', 'dependsOn': [{'activity': 'business__0__switch_env', 'dependencyConditions': ['Failed']}], 'userProperties': [], 'typeProperties': {'pipeline': {'referenceName': 'send_email', 'type': 'PipelineReference'}, 'waitOnCompletion': True, 'parameters': {'email_users': {'value': \"@array('monitoramento_observatorio@cni.com.br')\", 'type': 'Expression'}, 'email_groups': {'value': \"@array('')\", 'type': 'Expression'}, 'adf': {'value': '@json(concat(\\'{\"adf_factory_name\": \"\\', pipeline().DataFactory, \\'\", \"adf_pipeline_name\": \"\\', pipeline().Pipeline, \\'\", \"adf_pipeline_run_id\": \"\\', pipeline().RunId, \\'\",  \"adf_trigger_id\": \"\\', pipeline().TriggerId, \\'\", \"adf_trigger_name\": \"\\', pipeline().TriggerName, \\'\", \"adf_trigger_time\": \"\\', pipeline().TriggerTime, \\'\",  \"adf_trigger_type\": \"\\', pipeline().TriggerType, \\'\"}\\'))', 'type': 'Expression'}, 'env': {'value': '@pipeline().parameters.env', 'type': 'Expression'}}}}, {'name': 'Fail1', 'type': 'Fail', 'dependsOn': [{'activity': 'alerta_falha', 'dependencyConditions': ['Succeeded']}], 'userProperties': [], 'typeProperties': {'message': 'Falha', 'errorCode': '500'}}], 'parameters': {'tables': {'type': 'object', 'defaultValue': {'source_1': '/oni/mte/rais/publica/estabelecimento', 'source_2': '/oni/observatorio_nacional/cnae/ger_arrec_fin/cnaes_contrib', 'path_destination': 'oni/base_unica_cnpjs/rais_estab_pub', 'destination': '/oni/base_unica_cnpjs/rais_estab_pub', 'databricks': {'notebook': '/biz/oni/base_unica_cnpjs/trs_biz_rais_estab_pub'}}}, 'user_parameters': {'type': 'object', 'defaultValue': {'null': 'null'}}, 'env': {'type': 'object', 'defaultValue': {'env': 'dev'}}, 'sqldw_copy': {'type': 'bool'}, 'sqldw_grant': {'type': 'string'}}, 'folder': {'name': 'biz/oni/base_unica_cnpjs'}, 'annotations': []}}\n",
      "path_destination oni/base_unica_cnpjs/rais_estab_pub\n",
      "defaultValue {'source_1': '/oni/mte/rais/publica/estabelecimento', 'source_2': '/oni/observatorio_nacional/cnae/ger_arrec_fin/cnaes_contrib', 'path_destination': 'oni/base_unica_cnpjs/rais_estab_pub', 'destination': '/oni/base_unica_cnpjs/rais_estab_pub', 'databricks': {'notebook': '/biz/oni/base_unica_cnpjs/trs_biz_rais_estab_pub'}}\n",
      "Filtered list excluding specific word: ['/oni/mte/rais/publica/estabelecimento', '/oni/observatorio_nacional/cnae/ger_arrec_fin/cnaes_contrib']\n",
      "{'name': 'trs_biz_rais_vinculo_publica', 'properties': {'description': 'Tabela de dados mestre da RAIS VINCULO PUBLICA', 'activities': [{'name': 'business__0__switch_env', 'description': 'Calls business template \"template_business\" without transfereing to dw. ', 'type': 'ExecutePipeline', 'dependsOn': [], 'userProperties': [], 'typeProperties': {'pipeline': {'referenceName': 'business__0__switch_env', 'type': 'PipelineReference'}, 'waitOnCompletion': True, 'parameters': {'env': {'value': '@pipeline().parameters.env', 'type': 'Expression'}, 'table': {'value': '@pipeline().parameters.tables', 'type': 'Expression'}, 'adf': {'value': '@json(concat(\\'{\"adf_factory_name\": \"\\', pipeline().DataFactory, \\'\", \"adf_pipeline_name\": \"\\', pipeline().Pipeline, \\'\", \"adf_pipeline_run_id\": \"\\', pipeline().RunId, \\'\",  \"adf_trigger_id\": \"\\', pipeline().TriggerId, \\'\", \"adf_trigger_name\": \"\\', pipeline().TriggerName, \\'\", \"adf_trigger_time\": \"\\', pipeline().TriggerTime, \\'\",  \"adf_trigger_type\": \"\\', pipeline().TriggerType, \\'\"}\\'))', 'type': 'Expression'}, 'user_parameters': {'value': '@pipeline().parameters.user_parameters', 'type': 'Expression'}, 'sqldw_copy': {'value': '@pipeline().parameters.sqldw_copy', 'type': 'Expression'}, 'sqldw_grant': {'value': '@pipeline().parameters.sqldw_grant', 'type': 'Expression'}}}}], 'parameters': {'tables': {'type': 'object', 'defaultValue': {'origin': '/me/rais_vinculo_publica/', 'ipca': '/ibge/ipca', 'destination': '/oni/dados_mestre/rais/rais_vinculo_publica/microdado', 'ano_inicio': 2008, 'ano_fim': 2021, 'databricks': {'notebook': '/biz/oni/dados_mestre/rais/rais_vinculo_publica/trs_biz_microdado'}}}, 'user_parameters': {'type': 'object', 'defaultValue': {'null': 'null'}}, 'env': {'type': 'object', 'defaultValue': {'env': 'dev'}}, 'sqldw_copy': {'type': 'bool', 'defaultValue': False}, 'sqldw_grant': {'type': 'string'}}, 'folder': {'name': 'biz/oni/dados_mestre/rais'}, 'annotations': []}}\n",
      "Filtered list excluding specific wordFiltered list excluding specific wordFiltered list excluding specific word: ['/me/rais_vinculo_publica/', '/ibge/ipca', '/oni/dados_mestre/rais/rais_vinculo_publica/microdado', 2008, 2021]\n"
     ]
    }
   ],
   "source": [
    "import os\n",
    "import json\n",
    "import re\n",
    "# Path to the folder\n",
    "\n",
    "folder_path = r'C:\\Users\\PC\\Desktop\\mapeamento_adf\\pipeline\\pipeline'\n",
    "\n",
    "# List all files in the folder\n",
    "files = os.listdir(folder_path)\n",
    "# ['biz_biz_analitico_ep.json', 'biz_biz_base_unimercado_ep.json', 'biz_biz_base_unimercado_ssi.json', 'biz_biz_base_unimercado_sti.json', ...\n",
    "\n",
    "for file_name in files:\n",
    "    # biz_biz_analitico_ep.json\n",
    "    # biz_biz_base_unimercado_ep.json\n",
    "    # biz_biz_base_unimercado_ssi.json\n",
    "    # biz_biz_base_unimercado_sti.json\n",
    "    # biz_biz_calcula_coluna.json\n",
    "\n",
    "\n",
    "    file_path = os.path.join(folder_path, file_name)\n",
    "    # 'C:\\Users\\PC\\Desktop\\mapeamento_adf\\pipeline\\pipeline' + ['biz_biz_analitico_ep.json', 'biz_biz_base_unimercado_ep.json', 'biz_biz_base_unimercado_ssi.json', 'biz_biz_base_unimercado_sti.json', ...\n",
    "    with open(file_path, 'r') as file:\n",
    "        data = json.load(file)\n",
    "\n",
    "        # Now 'data' contains the JSON data as a Python dictionary\n",
    "        # Convert the JSON object to a text string\n",
    "        json_string = json.dumps(data, indent=2)\n",
    "        word = 'rais'\n",
    "        layer = 'trs_biz'\n",
    "        if word in json_string:\n",
    "            # if re.search(rf'\\b{word}\\b', json_string, re.IGNORECASE) and not file_name.startswith('wkf') and file_name.startswith(layer):\n",
    "            if word in json_string and file_name.startswith('trs_biz') and not file_name.startswith('wkf'): \n",
    "                #>> it doesn't work, cause the expression 'if word in json_string' ain't looking for the 'word in the specific sequence'\n",
    "                #print(file_name)\n",
    "                with open(file_path, 'r') as file:\n",
    "                    data = json.load(file)\n",
    "                    print(data)\n",
    "                    path_destination = data.get('properties', {}).get('parameters', {}).get('tables', {}).get('defaultValue', {}).get('path_destination')\n",
    "                    # dictionary.get(key, default=None)\n",
    "                    #print(data.get('properties', {}).get('parameters', {}))\n",
    "                    if path_destination:\n",
    "                        # if every single one exists data.get('properties', {}).get('parameters', {}).get('tables', {}).get('defaultValue', {}).get('path_destination')\n",
    "                        print('path_destination' , data['properties']['parameters']['tables']['defaultValue']['path_destination'])\n",
    "                        print('defaultValue' , data['properties']['parameters']['tables']['defaultValue'])\n",
    "                        data_dict_values = data['properties']['parameters']['tables']['defaultValue']    \n",
    "                        #for value in data_dict_values.values():\n",
    "                        #    print('VALUES',value)\n",
    "                        #valor = [value for value in data_dict_values.values()]\n",
    "                        #print(valor)\n",
    "                        #print(path_destination)\n",
    "                        #if path_destination not in valor:\n",
    "                        #    print('sdfsdfsf')\n",
    "\n",
    "                        # Use a list comprehension with a condition to filter items\n",
    "                        filtered_list = [item for item in data_dict_values.values() if not re.search(rf'\\b{path_destination}\\b', str(item), re.IGNORECASE)]\n",
    "                        print(\"Filtered list excluding specific word:\", filtered_list[:-1])\n",
    "                    else:\n",
    "                        path_destination = data.get('properties', {}).get('parameters', {}).get('tables', {}).get('defaultValue', {}).get('destination')\n",
    "                        data_dict_values = data['properties']['parameters']['tables']['defaultValue']\n",
    "                        #for value in data_dict_values.values():\n",
    "                        #    print('VALUES',value)\n",
    "                        #valor = [value for value in data_dict_values.values()]\n",
    "                        #print(valor)\n",
    "                        #print(path_destination)\n",
    "                        #if path_destination not in valor:\n",
    "                        #    print('sdfsdfsf')\n",
    "\n",
    "                        # Use a list comprehension with a condition to filter items\n",
    "                        filtered_list = [item for item in data_dict_values.values() if not re.search(rf'\\b{path_destination}\\b', str(item), re.IGNORECASE)]\n",
    "                        print(\"Filtered list excluding specific wordFiltered list excluding specific wordFiltered list excluding specific word:\", filtered_list[:-1])\n",
    "\n",
    "        else:\n",
    "            pass"
   ]
  },
  {
   "cell_type": "code",
   "execution_count": 107,
   "metadata": {},
   "outputs": [
    {
     "name": "stdout",
     "output_type": "stream",
     "text": [
      "biz_biz_cnpjs_rfb_rais_publica.json\n",
      "PATH_DESTINATION: ['/oni/base_unica_cnpjs/cnpjs_rfb_rais']\n",
      "biz_biz_sesi_indicador_12_analitico.json\n",
      "DESTINATION: []\n",
      "biz_biz_sesi_indicador_12_sintetico.json\n",
      "DESTINATION: []\n",
      "biz_biz_sesi_indicador_13_analitico.json\n",
      "DESTINATION: []\n",
      "biz_biz_sesi_indicador_13_sintetico.json\n",
      "DESTINATION: []\n",
      "biz_biz_sesi_indicador_14_analitico.json\n",
      "DESTINATION: []\n",
      "biz_biz_sesi_indicador_14_sintetico.json\n",
      "DESTINATION: []\n"
     ]
    }
   ],
   "source": [
    "import os\n",
    "import json\n",
    "import re\n",
    "\n",
    "folder_path = r'C:\\Users\\PC\\Desktop\\mapeamento_adf\\pipeline\\pipeline'\n",
    "\n",
    "files = os.listdir(folder_path)\n",
    "\n",
    "for file_name in files:\n",
    "    file_path = os.path.join(folder_path, file_name)\n",
    "    with open(file_path, 'r') as file:\n",
    "        data = json.load(file)\n",
    "        json_string = json.dumps(data, indent=2)\n",
    "        word = 'rais'\n",
    "        layer = 'biz_biz'\n",
    "        if word in json_string:\n",
    "            if word in json_string and file_name.startswith('biz_biz') and not file_name.startswith('wkf'): \n",
    "                with open(file_path, 'r') as file:\n",
    "                    print(file_name)\n",
    "                    data = json.load(file)\n",
    "                    path_destination = data.get('properties', {}).get('parameters', {}).get('tables', {}).get('defaultValue', {}).get('path_destination')\n",
    "                    if path_destination:\n",
    "                        #print('path_destination' , data['properties']['parameters']['tables']['defaultValue']['path_destination'])\n",
    "                        #print('defaultValue' , data['properties']['parameters']['tables']['defaultValue'])\n",
    "                        data_dict_values = data['properties']['parameters']['tables']['defaultValue']    \n",
    "                        filtered_list = [item for item in data_dict_values.values() if not re.search(rf'\\b{path_destination}\\b', str(item), re.IGNORECASE) and not re.search(r'\\d', str(item))]\n",
    "                        print(\"PATH_DESTINATION:\", filtered_list[:-1])\n",
    "                    else:\n",
    "                        path_destination = data.get('properties', {}).get('parameters', {}).get('tables', {}).get('defaultValue', {}).get('destination')\n",
    "                        data_dict_values = data['properties']['parameters']['tables']['defaultValue']\n",
    "                        filtered_list =  filtered_list = [\n",
    "                        item for item in data_dict_values.values()\n",
    "                        if not re.search(rf'\\b{re.escape(path_destination)}\\b', str(item), re.IGNORECASE) and not re.search(r'\\d', str(item))\n",
    "                    ]\n",
    "                        print(\"DESTINATION:\", filtered_list[:-1])\n",
    "\n",
    "        else:\n",
    "            pass"
   ]
  },
  {
   "cell_type": "code",
   "execution_count": null,
   "metadata": {},
   "outputs": [],
   "source": []
  }
 ],
 "metadata": {
  "kernelspec": {
   "display_name": "great_expectations",
   "language": "python",
   "name": "python3"
  },
  "language_info": {
   "codemirror_mode": {
    "name": "ipython",
    "version": 3
   },
   "file_extension": ".py",
   "mimetype": "text/x-python",
   "name": "python",
   "nbconvert_exporter": "python",
   "pygments_lexer": "ipython3",
   "version": "3.8.18"
  }
 },
 "nbformat": 4,
 "nbformat_minor": 2
}
